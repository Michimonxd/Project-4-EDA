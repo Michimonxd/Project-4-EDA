{
 "cells": [
  {
   "cell_type": "code",
   "execution_count": 593,
   "id": "f9be3a88-6a87-42d4-8bf0-877e708bb56b",
   "metadata": {},
   "outputs": [],
   "source": [
    "import pandas as pd\n",
    "import matplotlib.pyplot as plt\n",
    "import seaborn as sns\n",
    "import numpy as np\n",
    "\n",
    "%matplotlib inline"
   ]
  },
  {
   "cell_type": "code",
   "execution_count": 595,
   "id": "e1e2e00a-8999-403c-95c8-79f47e025cfa",
   "metadata": {},
   "outputs": [],
   "source": [
    "df = pd.read_csv('client_old_new_df.csv')"
   ]
  },
  {
   "cell_type": "code",
   "execution_count": 541,
   "id": "8bf93f39-f8b4-46cb-a748-e176e7fb5958",
   "metadata": {},
   "outputs": [
    {
     "data": {
      "text/plain": [
       "70609"
      ]
     },
     "execution_count": 541,
     "metadata": {},
     "output_type": "execute_result"
    }
   ],
   "source": [
    "df[\"client_id\"].nunique()"
   ]
  },
  {
   "cell_type": "code",
   "execution_count": 497,
   "id": "cccde4bf-6fc0-4c56-a208-0652f3148692",
   "metadata": {},
   "outputs": [],
   "source": [
    "#df.head(50)"
   ]
  },
  {
   "cell_type": "markdown",
   "id": "b7e66fc2-9a0d-4064-8372-418b07ad1b22",
   "metadata": {},
   "source": [
    "Completion Rate:\n",
    "The proportion of users who reach the final ‘confirm’ step.\n",
    "\n",
    "Time Spent on Each Step:\n",
    "The average duration users spend on each step.\n",
    "\n",
    "Error Rates:\n",
    "If there’s a step where users go back to a previous step, it may indicate confusion or an error. Moving from a later step to an earlier one should be considered an error."
   ]
  },
  {
   "cell_type": "markdown",
   "id": "38439d54-4671-4a9b-a33f-39543e1d3d13",
   "metadata": {},
   "source": [
    "<h1>Proportions of ALL Clients and Process Step</h1>"
   ]
  },
  {
   "cell_type": "code",
   "execution_count": 533,
   "id": "8fa32d84-9f96-4d8e-a926-2a07e299a83a",
   "metadata": {},
   "outputs": [
    {
     "name": "stdout",
     "output_type": "stream",
     "text": [
      "Completion Rate for 'start': 99.16%\n",
      "Completion Rate for 'step_1': 87.96%\n",
      "Completion Rate for 'step_2': 81.01%\n",
      "Completion Rate for 'step_3': 75.85%\n",
      "Completion Rate for 'confirm': 67.57%\n",
      "Overall Completion Rate for 'confirm': 67.57%\n"
     ]
    }
   ],
   "source": [
    "# Create crosstab between 'client_id' and 'process_step'\n",
    "crosstab_process = pd.crosstab(df['client_id'], df['process_step'])\n",
    "\n",
    "# Calculate the total number of unique users\n",
    "total_users_all = len(crosstab_process)\n",
    "\n",
    "# Define the process steps\n",
    "process_steps = ['start', 'step_1', 'step_2', 'step_3', 'confirm']\n",
    "\n",
    "# Initialize a dictionary to store the completion rates for each step\n",
    "completion_rates = {}\n",
    "\n",
    "# Iterate through each process step to calculate the completion rate\n",
    "for step in process_steps:\n",
    "    # Calculate the number of unique users who reached each step\n",
    "    completed_users = (crosstab_process[step] > 0).sum()  # Count unique users who reached the step\n",
    "    completion_rate = completed_users / total_users_all if total_users_all > 0 else 0  # Prevent division by zero\n",
    "    completion_rates[step] = completion_rate * 100  # Store the completion rate as a percentage\n",
    "\n",
    "# Print the completion rates for all steps\n",
    "for step, rate in completion_rates.items():\n",
    "    print(f\"Completion Rate for '{step}': {rate:.2f}%\")\n",
    "\n",
    "# Calculate the overall completion rate for the 'confirm' step\n",
    "overall_completion_rate = completion_rates['confirm']\n",
    "print(f\"Overall Completion Rate for 'confirm': {overall_completion_rate:.2f}%\")\n"
   ]
  },
  {
   "cell_type": "code",
   "execution_count": 535,
   "id": "b3dff9a3-60cf-4cfe-83b7-4b6b0e800629",
   "metadata": {},
   "outputs": [
    {
     "data": {
      "text/plain": [
       "(50500,)"
      ]
     },
     "execution_count": 535,
     "metadata": {},
     "output_type": "execute_result"
    }
   ],
   "source": [
    "crosstab_process['confirm'].shape"
   ]
  },
  {
   "cell_type": "markdown",
   "id": "6566df56-3222-46b0-a1a0-1e398dc88b99",
   "metadata": {},
   "source": [
    "<h1>Proportions of TEST Clients and Process Step</h1>"
   ]
  },
  {
   "cell_type": "code",
   "execution_count": 284,
   "id": "96a02831-18fa-4958-8fe9-53254ec50c8b",
   "metadata": {},
   "outputs": [
    {
     "name": "stdout",
     "output_type": "stream",
     "text": [
      "Completion Rate for yes 'start': 98.93%\n",
      "Completion Rate for yes 'step_1': 89.98%\n",
      "Completion Rate for yes 'step_2': 82.53%\n",
      "Completion Rate for yes 'step_3': 77.43%\n",
      "Completion Rate for yes 'confirm': 69.29%\n"
     ]
    }
   ],
   "source": [
    "# Filter the DataFrame to include only rows where 'Variation' == 'Test'\n",
    "df_filtered_yes = df[df['Variation'] == 'Test']\n",
    "\n",
    "# Create a crosstab between 'client_id' and 'process_step' for the filtered users\n",
    "crosstab_yes = pd.crosstab(df_filtered_yes['client_id'], df_filtered_yes['process_step'])\n",
    "\n",
    "# Calculate the total number of unique users in the filtered data\n",
    "total_users = len(crosstab_yes)\n",
    "\n",
    "# Define the process steps\n",
    "process_steps = ['start', 'step_1', 'step_2', 'step_3', 'confirm']\n",
    "\n",
    "# Initialize a dictionary to store the completion rates\n",
    "completion_rates = {}\n",
    "\n",
    "# Iterate through each process step to calculate the completion rate\n",
    "for step in process_steps:\n",
    "    # Calculate the number of unique users who reached each step\n",
    "    completed_users = (crosstab_yes[step] > 0).sum()  # Count unique users who reached the step\n",
    "    completion_rate = completed_users / total_users if total_users > 0 else 0  # Prevent division by zero\n",
    "    completion_rates[step] = completion_rate * 100  # Store the completion rate as a percentage\n",
    "\n",
    "# Print the completion rates for all steps\n",
    "for step, rate in completion_rates.items():\n",
    "    print(f\"Completion Rate for yes '{step}': {rate:.2f}%\")\n"
   ]
  },
  {
   "cell_type": "markdown",
   "id": "428578e5-57be-430d-848d-1a2d8c3ff228",
   "metadata": {},
   "source": [
    "<h1>Proportions of NON TEST Clients and Process Step</h1>"
   ]
  },
  {
   "cell_type": "code",
   "execution_count": 286,
   "id": "0feac1be-e80c-4d09-a835-8aa471340cc1",
   "metadata": {},
   "outputs": [
    {
     "name": "stdout",
     "output_type": "stream",
     "text": [
      "Completion Rate for no 'start': 99.43%\n",
      "Completion Rate for no 'step_1': 85.64%\n",
      "Completion Rate for no 'step_2': 79.25%\n",
      "Completion Rate for no 'step_3': 74.04%\n",
      "Completion Rate for no 'confirm': 65.59%\n"
     ]
    }
   ],
   "source": [
    "# Filter the DataFrame to include only rows where 'Variation' == 'Control\n",
    "df_filtered_yes = df[df['Variation'] == 'Control']\n",
    "\n",
    "# Create a crosstab between 'client_id' and 'process_step' for the filtered users\n",
    "crosstab_yes = pd.crosstab(df_filtered_yes['client_id'], df_filtered_yes['process_step'])\n",
    "\n",
    "# Calculate the total number of unique users in the filtered data\n",
    "total_users = len(crosstab_yes)\n",
    "\n",
    "# Define the process steps\n",
    "process_steps = ['start', 'step_1', 'step_2', 'step_3', 'confirm']\n",
    "\n",
    "# Initialize a dictionary to store the completion rates\n",
    "completion_rates = {}\n",
    "\n",
    "# Iterate through each process step to calculate the completion rate\n",
    "for step in process_steps:\n",
    "    # Calculate the number of unique users who reached each step\n",
    "    completed_users = (crosstab_yes[step] > 0).sum()  # Count unique users who reached the step\n",
    "    completion_rate = completed_users / total_users if total_users > 0 else 0  # Prevent division by zero\n",
    "    completion_rates[step] = completion_rate * 100  # Store the completion rate as a percentage\n",
    "\n",
    "# Print the completion rates for all steps\n",
    "for step, rate in completion_rates.items():\n",
    "    print(f\"Completion Rate for no '{step}': {rate:.2f}%\")\n"
   ]
  },
  {
   "cell_type": "markdown",
   "id": "369240cd-66cc-4e31-908e-b884f0b263fb",
   "metadata": {},
   "source": [
    "<h1>Error Rate All User</h1>"
   ]
  },
  {
   "cell_type": "markdown",
   "id": "b443b428-d676-473c-a884-a45d2df7807c",
   "metadata": {},
   "source": [
    "#Error Rates: If there’s a step where users go back to a previous step, it may indicate confusion or an error. \n",
    "#Moving from a later step to an earlier one should be considered an error."
   ]
  },
  {
   "cell_type": "code",
   "execution_count": 597,
   "id": "b6141642-bd63-49b0-abf0-73f2b51a6f33",
   "metadata": {},
   "outputs": [
    {
     "name": "stdout",
     "output_type": "stream",
     "text": [
      "Total Errors: 45351\n",
      "Error Rate: 10.08%\n"
     ]
    }
   ],
   "source": [
    "# Convert date_time column to datetime format\n",
    "df['date_time'] = pd.to_datetime(df['date_time'])\n",
    "\n",
    "#df = df.dropna()\n",
    "# Manually define the mapping dictionary for 'process_step'\n",
    "# Assigning specific numeric values to each step\n",
    "mapping = {\n",
    "    'start': 0,  \n",
    "    'step_1': 1,  \n",
    "    'step_2': 2,\n",
    "    'step_3' : 3,\n",
    "    'confirm' : 4\n",
    "}\n",
    "\n",
    "# Map the 'process_step' column using the defined mapping\n",
    "df['process_step_numeric'] = df['process_step'].map(mapping)\n",
    "\n",
    "# Sort the dataframe by client_id and date_time\n",
    "df = df.sort_values(by=['client_id', 'date_time'])\n",
    "\n",
    "# Create a new column to track if the user moved to a previous step\n",
    "df['error'] = df.groupby('client_id')['process_step_numeric'].diff().apply(lambda x: x < 0)\n",
    "\n",
    "# Filter rows where an error occurred\n",
    "error_rows = df[df['error'] == True]\n",
    "\n",
    "# Calculate the total error rate (number of errors / total steps)\n",
    "total_errors = error_rows.shape[0]\n",
    "total_steps = df.shape[0]\n",
    "error_rate = total_errors / total_steps\n",
    "\n",
    "print(f\"Total Errors: {total_errors}\")\n",
    "print(f\"Error Rate: {error_rate:.2%}\")\n",
    "\n",
    "## Total Errors are more than test + control errors because of NaN values, when dropping NaN values they add up to the same"
   ]
  },
  {
   "cell_type": "code",
   "execution_count": 546,
   "id": "ef378c7d-4756-4b12-9fb2-2d1a6a922a30",
   "metadata": {},
   "outputs": [
    {
     "data": {
      "text/plain": [
       "70609"
      ]
     },
     "execution_count": 546,
     "metadata": {},
     "output_type": "execute_result"
    }
   ],
   "source": [
    "df['client_id'].nunique()"
   ]
  },
  {
   "cell_type": "markdown",
   "id": "3f60baf0-8e93-4fa9-a711-30b284e0d4c0",
   "metadata": {},
   "source": [
    "<h1>Error Rate TEST User</h1>"
   ]
  },
  {
   "cell_type": "code",
   "execution_count": 573,
   "id": "e27ec26a-e68e-4afb-b0d9-44c67c99cf86",
   "metadata": {},
   "outputs": [
    {
     "name": "stdout",
     "output_type": "stream",
     "text": [
      "Total Test Errors: 19088\n",
      "Test Error Rate: 10.73%\n"
     ]
    }
   ],
   "source": [
    "# Convert date_time column to datetime format\n",
    "df['date_time'] = pd.to_datetime(df['date_time'])\n",
    "\n",
    "# Filter the dataframe for users with 'Test' in the 'Variation' column\n",
    "filtered_test = df[df['Variation'] == 'Test'].copy()\n",
    "\n",
    "# Manually define the mapping dictionary for 'process_step'\n",
    "mapping = {\n",
    "    'start': 0,  \n",
    "    'step_1': 1,  \n",
    "    'step_2': 2,\n",
    "    'step_3': 3,\n",
    "    'confirm': 4\n",
    "}\n",
    "\n",
    "# Map the 'process_step' column using the defined mapping\n",
    "filtered_test['process_step_numeric'] = filtered_test['process_step'].map(mapping)\n",
    "\n",
    "# Sort the filtered dataframe by client_id and date_time\n",
    "filtered_test = filtered_test.sort_values(by=['client_id', 'date_time'])\n",
    "\n",
    "# Create a new column to track if the user moved to a previous step\n",
    "filtered_test['error'] = filtered_test.groupby('client_id')['process_step_numeric'].diff().apply(lambda x: x < 0)\n",
    "\n",
    "# Filter rows where an error occurred\n",
    "error_rows = filtered_test[filtered_test['error'] == True]\n",
    "\n",
    "# Calculate the total error rate (number of errors / total steps)\n",
    "test_errors = error_rows.shape[0]\n",
    "test_steps = filtered_test.shape[0]  # Use filtered dataframe for total steps\n",
    "test_error_rate = test_errors / test_steps if test_steps > 0 else 0  # Avoid division by zero\n",
    "\n",
    "print(f\"Total Test Errors: {test_errors}\")\n",
    "print(f\"Test Error Rate: {test_error_rate:.2%}\")\n"
   ]
  },
  {
   "cell_type": "markdown",
   "id": "f0be866b-2d62-47df-8497-b86446c404b7",
   "metadata": {},
   "source": [
    "<h1>Error Rate CONTROL User</h1>"
   ]
  },
  {
   "cell_type": "code",
   "execution_count": 588,
   "id": "c493c6b4-f58c-422d-9546-a7420e9fd517",
   "metadata": {},
   "outputs": [
    {
     "name": "stdout",
     "output_type": "stream",
     "text": [
      "Total Control Errors: 13335\n",
      "Control Error Rate: 9.30%\n"
     ]
    }
   ],
   "source": [
    "# Convert date_time column to datetime format\n",
    "df['date_time'] = pd.to_datetime(df['date_time'])\n",
    "\n",
    "# Filter the dataframe for users with 'Test' in the 'Variation' column\n",
    "filtered_control = df[df['Variation'] == 'Control'].copy()\n",
    "\n",
    "# Manually define the mapping dictionary for 'process_step'\n",
    "mapping = {\n",
    "    'start': 0,  \n",
    "    'step_1': 1,  \n",
    "    'step_2': 2,\n",
    "    'step_3': 3,\n",
    "    'confirm': 4\n",
    "}\n",
    "\n",
    "# Map the 'process_step' column using the defined mapping\n",
    "filtered_control['process_step_numeric'] = filtered_control['process_step'].map(mapping)\n",
    "\n",
    "# Sort the filtered dataframe by client_id and date_time\n",
    "filtered_control = filtered_control.sort_values(by=['client_id', 'date_time'])\n",
    "\n",
    "# Create a new column to track if the user moved to a previous step\n",
    "filtered_control['error'] = filtered_control.groupby('client_id')['process_step_numeric'].diff().apply(lambda x: x < 0)\n",
    "\n",
    "# Filter rows where an error occurred\n",
    "error_rows = filtered_control[filtered_control['error'] == True]\n",
    "\n",
    "# Calculate the total error rate (number of errors / total steps)\n",
    "control_errors = error_rows.shape[0]\n",
    "control_steps = filtered_control.shape[0]  # Use filtered dataframe for total steps\n",
    "control_error_rate = control_errors / control_steps if test_steps > 0 else 0  # Avoid division by zero\n",
    "\n",
    "print(f\"Total Control Errors: {control_errors}\")\n",
    "print(f\"Control Error Rate: {control_error_rate:.2%}\")\n"
   ]
  },
  {
   "cell_type": "code",
   "execution_count": null,
   "id": "eb7355aa-da95-4d97-b9bc-cef74bae5f2b",
   "metadata": {},
   "outputs": [],
   "source": []
  }
 ],
 "metadata": {
  "kernelspec": {
   "display_name": "Python 3 (ipykernel)",
   "language": "python",
   "name": "python3"
  },
  "language_info": {
   "codemirror_mode": {
    "name": "ipython",
    "version": 3
   },
   "file_extension": ".py",
   "mimetype": "text/x-python",
   "name": "python",
   "nbconvert_exporter": "python",
   "pygments_lexer": "ipython3",
   "version": "3.12.4"
  }
 },
 "nbformat": 4,
 "nbformat_minor": 5
}
