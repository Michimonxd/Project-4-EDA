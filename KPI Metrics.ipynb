{
 "cells": [
  {
   "cell_type": "code",
   "execution_count": 276,
   "id": "f9be3a88-6a87-42d4-8bf0-877e708bb56b",
   "metadata": {},
   "outputs": [],
   "source": [
    "import pandas as pd\n",
    "import matplotlib.pyplot as plt\n",
    "import seaborn as sns\n",
    "import numpy as np\n",
    "\n",
    "%matplotlib inline"
   ]
  },
  {
   "cell_type": "code",
   "execution_count": 278,
   "id": "e1e2e00a-8999-403c-95c8-79f47e025cfa",
   "metadata": {},
   "outputs": [],
   "source": [
    "df = pd.read_csv('client_old_new_df.csv')"
   ]
  },
  {
   "cell_type": "code",
   "execution_count": 280,
   "id": "8bf93f39-f8b4-46cb-a748-e176e7fb5958",
   "metadata": {},
   "outputs": [
    {
     "data": {
      "text/plain": [
       "Variation\n",
       "Test       177847\n",
       "Control    143462\n",
       "Name: count, dtype: int64"
      ]
     },
     "execution_count": 280,
     "metadata": {},
     "output_type": "execute_result"
    }
   ],
   "source": [
    "df['Variation'].value_counts()"
   ]
  },
  {
   "cell_type": "code",
   "execution_count": 282,
   "id": "cccde4bf-6fc0-4c56-a208-0652f3148692",
   "metadata": {},
   "outputs": [
    {
     "data": {
      "text/html": [
       "<div>\n",
       "<style scoped>\n",
       "    .dataframe tbody tr th:only-of-type {\n",
       "        vertical-align: middle;\n",
       "    }\n",
       "\n",
       "    .dataframe tbody tr th {\n",
       "        vertical-align: top;\n",
       "    }\n",
       "\n",
       "    .dataframe thead th {\n",
       "        text-align: right;\n",
       "    }\n",
       "</style>\n",
       "<table border=\"1\" class=\"dataframe\">\n",
       "  <thead>\n",
       "    <tr style=\"text-align: right;\">\n",
       "      <th></th>\n",
       "      <th>client_id</th>\n",
       "      <th>visitor_id</th>\n",
       "      <th>visit_id</th>\n",
       "      <th>process_step</th>\n",
       "      <th>date_time</th>\n",
       "      <th>Variation</th>\n",
       "    </tr>\n",
       "  </thead>\n",
       "  <tbody>\n",
       "    <tr>\n",
       "      <th>0</th>\n",
       "      <td>9988021</td>\n",
       "      <td>580560515_7732621733</td>\n",
       "      <td>781255054_21935453173_531117</td>\n",
       "      <td>step_3</td>\n",
       "      <td>2017-04-17 15:27:07</td>\n",
       "      <td>Test</td>\n",
       "    </tr>\n",
       "    <tr>\n",
       "      <th>1</th>\n",
       "      <td>9988021</td>\n",
       "      <td>580560515_7732621733</td>\n",
       "      <td>781255054_21935453173_531117</td>\n",
       "      <td>step_2</td>\n",
       "      <td>2017-04-17 15:26:51</td>\n",
       "      <td>Test</td>\n",
       "    </tr>\n",
       "    <tr>\n",
       "      <th>2</th>\n",
       "      <td>9988021</td>\n",
       "      <td>580560515_7732621733</td>\n",
       "      <td>781255054_21935453173_531117</td>\n",
       "      <td>step_3</td>\n",
       "      <td>2017-04-17 15:19:22</td>\n",
       "      <td>Test</td>\n",
       "    </tr>\n",
       "    <tr>\n",
       "      <th>3</th>\n",
       "      <td>9988021</td>\n",
       "      <td>580560515_7732621733</td>\n",
       "      <td>781255054_21935453173_531117</td>\n",
       "      <td>step_2</td>\n",
       "      <td>2017-04-17 15:19:13</td>\n",
       "      <td>Test</td>\n",
       "    </tr>\n",
       "    <tr>\n",
       "      <th>4</th>\n",
       "      <td>9988021</td>\n",
       "      <td>580560515_7732621733</td>\n",
       "      <td>781255054_21935453173_531117</td>\n",
       "      <td>step_3</td>\n",
       "      <td>2017-04-17 15:18:04</td>\n",
       "      <td>Test</td>\n",
       "    </tr>\n",
       "  </tbody>\n",
       "</table>\n",
       "</div>"
      ],
      "text/plain": [
       "   client_id            visitor_id                      visit_id process_step  \\\n",
       "0    9988021  580560515_7732621733  781255054_21935453173_531117       step_3   \n",
       "1    9988021  580560515_7732621733  781255054_21935453173_531117       step_2   \n",
       "2    9988021  580560515_7732621733  781255054_21935453173_531117       step_3   \n",
       "3    9988021  580560515_7732621733  781255054_21935453173_531117       step_2   \n",
       "4    9988021  580560515_7732621733  781255054_21935453173_531117       step_3   \n",
       "\n",
       "             date_time Variation  \n",
       "0  2017-04-17 15:27:07      Test  \n",
       "1  2017-04-17 15:26:51      Test  \n",
       "2  2017-04-17 15:19:22      Test  \n",
       "3  2017-04-17 15:19:13      Test  \n",
       "4  2017-04-17 15:18:04      Test  "
      ]
     },
     "execution_count": 282,
     "metadata": {},
     "output_type": "execute_result"
    }
   ],
   "source": [
    "df.head()"
   ]
  },
  {
   "cell_type": "markdown",
   "id": "b7e66fc2-9a0d-4064-8372-418b07ad1b22",
   "metadata": {},
   "source": [
    "Completion Rate:\n",
    "The proportion of users who reach the final ‘confirm’ step.\n",
    "\n",
    "Time Spent on Each Step:\n",
    "The average duration users spend on each step.\n",
    "\n",
    "Error Rates:\n",
    "If there’s a step where users go back to a previous step, it may indicate confusion or an error. Moving from a later step to an earlier one should be considered an error."
   ]
  },
  {
   "cell_type": "raw",
   "id": "dc960810-3c3f-45e2-beba-a36ff41952d9",
   "metadata": {},
   "source": [
    "#Completion Rate: The proportion of ALL users who reach the final ‘confirm’ step.\n",
    "#Create crosstab\n",
    "crosstab_process = pd.crosstab(df['client_id'], df['process_step'])\n",
    "\n",
    "#Calculate the completion rate\n",
    "total_users_all = len(crosstab_process)\n",
    "completed_users = crosstab_process['confirm'].sum()\n",
    "\n",
    "completion_rate = completed_users / total_users_all\n",
    "\n",
    "print(f\"Completion Rate: {completion_rate * 100:.2f}%\")\n"
   ]
  },
  {
   "cell_type": "markdown",
   "id": "38439d54-4671-4a9b-a33f-39543e1d3d13",
   "metadata": {},
   "source": [
    "<h1>Proportions of ALL Clients and Process Step</h1>"
   ]
  },
  {
   "cell_type": "code",
   "execution_count": 256,
   "id": "8fa32d84-9f96-4d8e-a926-2a07e299a83a",
   "metadata": {},
   "outputs": [
    {
     "name": "stdout",
     "output_type": "stream",
     "text": [
      "Completion Rate for 'start': 99.02%\n",
      "Completion Rate for 'step_1': 87.37%\n",
      "Completion Rate for 'step_2': 80.68%\n",
      "Completion Rate for 'step_3': 75.80%\n",
      "Completion Rate for 'confirm': 67.53%\n",
      "Overall Completion Rate for 'confirm': 67.53%\n"
     ]
    }
   ],
   "source": [
    "# Create crosstab between 'client_id' and 'process_step'\n",
    "crosstab_process = pd.crosstab(df['client_id'], df['process_step'])\n",
    "\n",
    "# Calculate the total number of unique users\n",
    "total_users_all = len(crosstab_process)\n",
    "\n",
    "# Define the process steps\n",
    "process_steps = ['start', 'step_1', 'step_2', 'step_3', 'confirm']\n",
    "\n",
    "# Initialize a dictionary to store the completion rates for each step\n",
    "completion_rates = {}\n",
    "\n",
    "# Iterate through each process step to calculate the completion rate\n",
    "for step in process_steps:\n",
    "    # Calculate the number of unique users who reached each step\n",
    "    completed_users = (crosstab_process[step] > 0).sum()  # Count unique users who reached the step\n",
    "    completion_rate = completed_users / total_users_all if total_users_all > 0 else 0  # Prevent division by zero\n",
    "    completion_rates[step] = completion_rate * 100  # Store the completion rate as a percentage\n",
    "\n",
    "# Print the completion rates for all steps\n",
    "for step, rate in completion_rates.items():\n",
    "    print(f\"Completion Rate for '{step}': {rate:.2f}%\")\n",
    "\n",
    "# Calculate the overall completion rate for the 'confirm' step\n",
    "overall_completion_rate = completion_rates['confirm']\n",
    "print(f\"Overall Completion Rate for 'confirm': {overall_completion_rate:.2f}%\")\n"
   ]
  },
  {
   "cell_type": "raw",
   "id": "017105ad-dd7a-4397-8bb2-03619b65e705",
   "metadata": {},
   "source": [
    "# Filter the DataFrame to include only rows where 'test' == 'yes'\n",
    "df_filtered_yes = df[df['test'] == 'yes']\n",
    "\n",
    "# Create a crosstab between 'client_id' and 'process_step' for the filtered users\n",
    "crosstab_yes = pd.crosstab(df_filtered_yes['client_id'], df_filtered_yes['process_step'])\n",
    "\n",
    "# Calculate the completion rate for users who have 'yes' in the 'test' column\n",
    "total_users = len(crosstab_yes)  # Total number of unique users in the filtered data\n",
    "completed_users = crosstab_yes['confirm'].sum()  # Sum of users who reached the 'confirm' step\n",
    "\n",
    "# Calculate the completion rate\n",
    "completion_rate = completed_users / total_users\n",
    "\n",
    "print(f\"Completion Rate for users with 'yes' in 'test': {completion_rate * 100:.2f}%\")"
   ]
  },
  {
   "cell_type": "markdown",
   "id": "6566df56-3222-46b0-a1a0-1e398dc88b99",
   "metadata": {},
   "source": [
    "<h1>Proportions of TEST Clients and Process Step</h1>"
   ]
  },
  {
   "cell_type": "code",
   "execution_count": 252,
   "id": "96a02831-18fa-4958-8fe9-53254ec50c8b",
   "metadata": {},
   "outputs": [
    {
     "name": "stdout",
     "output_type": "stream",
     "text": [
      "Completion Rate for yes 'start': 99.16%\n",
      "Completion Rate for yes 'step_1': 88.02%\n",
      "Completion Rate for yes 'step_2': 81.03%\n",
      "Completion Rate for yes 'step_3': 75.93%\n",
      "Completion Rate for yes 'confirm': 67.70%\n"
     ]
    }
   ],
   "source": [
    "# Filter the DataFrame to include only rows where 'test' == 'yes'\n",
    "df_filtered_yes = df[df['Variation'] == 'yes']\n",
    "\n",
    "# Create a crosstab between 'client_id' and 'process_step' for the filtered users\n",
    "crosstab_yes = pd.crosstab(df_filtered_yes['client_id'], df_filtered_yes['process_step'])\n",
    "\n",
    "# Calculate the total number of unique users in the filtered data\n",
    "total_users = len(crosstab_yes)\n",
    "\n",
    "# Define the process steps\n",
    "process_steps = ['start', 'step_1', 'step_2', 'step_3', 'confirm']\n",
    "\n",
    "# Initialize a dictionary to store the completion rates\n",
    "completion_rates = {}\n",
    "\n",
    "# Iterate through each process step to calculate the completion rate\n",
    "for step in process_steps:\n",
    "    # Calculate the number of unique users who reached each step\n",
    "    completed_users = (crosstab_yes[step] > 0).sum()  # Count unique users who reached the step\n",
    "    completion_rate = completed_users / total_users if total_users > 0 else 0  # Prevent division by zero\n",
    "    completion_rates[step] = completion_rate * 100  # Store the completion rate as a percentage\n",
    "\n",
    "# Print the completion rates for all steps\n",
    "for step, rate in completion_rates.items():\n",
    "    print(f\"Completion Rate for yes '{step}': {rate:.2f}%\")\n"
   ]
  },
  {
   "cell_type": "raw",
   "id": "1f367285-b55e-4e3d-ab94-5f89a135e34c",
   "metadata": {},
   "source": [
    "# Filter the DataFrame to include only rows where 'test' == 'no'\n",
    "df_filtered_no = df[df['test'] == 'no']\n",
    "\n",
    "# Create a crosstab between 'client_id' and 'process_step' for the filtered users\n",
    "crosstab_no = pd.crosstab(df_filtered_no['client_id'], df_filtered_no['process_step'])\n",
    "\n",
    "# Calculate the completion rate for users who have 'yes' in the 'test' column\n",
    "total_users = len(crosstab_no)  # Total number of unique users in the filtered data\n",
    "completed_users = crosstab_no['confirm'].sum()  # Sum of users who reached the 'confirm' step\n",
    "\n",
    "# Calculate the completion rate\n",
    "completion_rate = completed_users / total_users\n",
    "\n",
    "print(f\"Completion Rate for users with 'no' in 'test': {completion_rate * 100:.2f}%\")"
   ]
  },
  {
   "cell_type": "markdown",
   "id": "428578e5-57be-430d-848d-1a2d8c3ff228",
   "metadata": {},
   "source": [
    "<h1>Proportions of NON TEST Clients and Process Step</h1>"
   ]
  },
  {
   "cell_type": "code",
   "execution_count": 254,
   "id": "0feac1be-e80c-4d09-a835-8aa471340cc1",
   "metadata": {},
   "outputs": [
    {
     "name": "stdout",
     "output_type": "stream",
     "text": [
      "Completion Rate for no 'start': 98.83%\n",
      "Completion Rate for no 'step_1': 86.43%\n",
      "Completion Rate for no 'step_2': 80.17%\n",
      "Completion Rate for no 'step_3': 75.61%\n",
      "Completion Rate for no 'confirm': 67.30%\n"
     ]
    }
   ],
   "source": [
    "# Filter the DataFrame to include only rows where 'test' == 'no\n",
    "df_filtered_yes = df[df['test'] == 'no']\n",
    "\n",
    "# Create a crosstab between 'client_id' and 'process_step' for the filtered users\n",
    "crosstab_yes = pd.crosstab(df_filtered_yes['client_id'], df_filtered_yes['process_step'])\n",
    "\n",
    "# Calculate the total number of unique users in the filtered data\n",
    "total_users = len(crosstab_yes)\n",
    "\n",
    "# Define the process steps\n",
    "process_steps = ['start', 'step_1', 'step_2', 'step_3', 'confirm']\n",
    "\n",
    "# Initialize a dictionary to store the completion rates\n",
    "completion_rates = {}\n",
    "\n",
    "# Iterate through each process step to calculate the completion rate\n",
    "for step in process_steps:\n",
    "    # Calculate the number of unique users who reached each step\n",
    "    completed_users = (crosstab_yes[step] > 0).sum()  # Count unique users who reached the step\n",
    "    completion_rate = completed_users / total_users if total_users > 0 else 0  # Prevent division by zero\n",
    "    completion_rates[step] = completion_rate * 100  # Store the completion rate as a percentage\n",
    "\n",
    "# Print the completion rates for all steps\n",
    "for step, rate in completion_rates.items():\n",
    "    print(f\"Completion Rate for no '{step}': {rate:.2f}%\")\n"
   ]
  },
  {
   "cell_type": "code",
   "execution_count": null,
   "id": "151b721c-a8d6-4af7-bd3b-41aed04ae2c6",
   "metadata": {},
   "outputs": [],
   "source": [
    "#Error Rates: If there’s a step where users go back to a previous step, it may indicate confusion or an error. \n",
    "#Moving from a later step to an earlier one should be considered an error."
   ]
  }
 ],
 "metadata": {
  "kernelspec": {
   "display_name": "Python 3 (ipykernel)",
   "language": "python",
   "name": "python3"
  },
  "language_info": {
   "codemirror_mode": {
    "name": "ipython",
    "version": 3
   },
   "file_extension": ".py",
   "mimetype": "text/x-python",
   "name": "python",
   "nbconvert_exporter": "python",
   "pygments_lexer": "ipython3",
   "version": "3.12.4"
  }
 },
 "nbformat": 4,
 "nbformat_minor": 5
}
