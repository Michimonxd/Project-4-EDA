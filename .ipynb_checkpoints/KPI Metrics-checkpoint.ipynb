{
 "cells": [
  {
   "cell_type": "code",
   "execution_count": 1,
   "id": "f9be3a88-6a87-42d4-8bf0-877e708bb56b",
   "metadata": {},
   "outputs": [],
   "source": [
    "import pandas as pd\n",
    "import matplotlib.pyplot as plt\n",
    "import seaborn as sns\n",
    "import numpy as np\n",
    "import scipy.stats as st\n",
    "\n",
    "\n",
    "%matplotlib inline"
   ]
  },
  {
   "cell_type": "code",
   "execution_count": 2,
   "id": "e1e2e00a-8999-403c-95c8-79f47e025cfa",
   "metadata": {},
   "outputs": [],
   "source": [
    "df = pd.read_csv('client_old_new_df.csv')"
   ]
  },
  {
   "cell_type": "code",
   "execution_count": 3,
   "id": "2a4e3835-2fdd-414f-a1ef-b4b6b4dd514d",
   "metadata": {},
   "outputs": [],
   "source": [
    "df = df.dropna()"
   ]
  },
  {
   "cell_type": "code",
   "execution_count": 4,
   "id": "cccde4bf-6fc0-4c56-a208-0652f3148692",
   "metadata": {},
   "outputs": [],
   "source": [
    "#df.head(50)"
   ]
  },
  {
   "cell_type": "markdown",
   "id": "b7e66fc2-9a0d-4064-8372-418b07ad1b22",
   "metadata": {},
   "source": [
    "Completion Rate:\n",
    "The proportion of users who reach the final ‘confirm’ step.\n",
    "\n",
    "Time Spent on Each Step:\n",
    "The average duration users spend on each step.\n",
    "\n",
    "Error Rates:\n",
    "If there’s a step where users go back to a previous step, it may indicate confusion or an error. Moving from a later step to an earlier one should be considered an error."
   ]
  },
  {
   "cell_type": "markdown",
   "id": "38439d54-4671-4a9b-a33f-39543e1d3d13",
   "metadata": {},
   "source": [
    "<h1>Proportions of ALL Clients and Process Step</h1>"
   ]
  },
  {
   "cell_type": "code",
   "execution_count": 7,
   "id": "8fa32d84-9f96-4d8e-a926-2a07e299a83a",
   "metadata": {},
   "outputs": [
    {
     "name": "stdout",
     "output_type": "stream",
     "text": [
      "Completion Rate for 'start': 99.16%\n",
      "Completion Rate for 'step_1': 87.96%\n",
      "Completion Rate for 'step_2': 81.01%\n",
      "Completion Rate for 'step_3': 75.85%\n",
      "Completion Rate for 'confirm': 67.57%\n",
      "Overall Completion Rate for 'confirm': 67.57%\n",
      "Total users who reached the 'confirm' step: 34121\n"
     ]
    }
   ],
   "source": [
    "# Create crosstab between 'client_id' and 'process_step'\n",
    "crosstab_process = pd.crosstab(df['client_id'], df['process_step'])\n",
    "\n",
    "# Calculate the total number of unique users\n",
    "total_users_all = len(crosstab_process)\n",
    "\n",
    "# Define the process steps\n",
    "process_steps = ['start', 'step_1', 'step_2', 'step_3', 'confirm']\n",
    "\n",
    "# Initialize a dictionary to store the completion rates for each step\n",
    "completion_rates = {}\n",
    "\n",
    "# Iterate through each process step to calculate the completion rate\n",
    "for step in process_steps:\n",
    "    # Calculate the number of unique users who reached each step\n",
    "    completed_users = (crosstab_process[step] > 0).sum()  # Count unique users who reached the step\n",
    "    completion_rate = completed_users / total_users_all if total_users_all > 0 else 0  # Prevent division by zero\n",
    "    completion_rates[step] = completion_rate * 100  # Store the completion rate as a percentage\n",
    "\n",
    "# Print the completion rates for all steps\n",
    "for step, rate in completion_rates.items():\n",
    "    print(f\"Completion Rate for '{step}': {rate:.2f}%\")\n",
    "\n",
    "# Calculate the overall completion rate for the 'confirm' step\n",
    "overall_completion_rate = completion_rates['confirm']\n",
    "print(f\"Overall Completion Rate for 'confirm': {overall_completion_rate:.2f}%\")\n",
    "\n",
    "# Calculate the total number of unique users who reached the 'confirm' step\n",
    "confirm_alluser = (crosstab_process['confirm'] > 0).sum()\n",
    "\n",
    "# Print the total number of users who reached the 'confirm' step\n",
    "print(f\"Total users who reached the 'confirm' step: {confirm_alluser}\")\n"
   ]
  },
  {
   "cell_type": "markdown",
   "id": "6566df56-3222-46b0-a1a0-1e398dc88b99",
   "metadata": {},
   "source": [
    "<h1>Proportions of TEST Clients and Process Step</h1>"
   ]
  },
  {
   "cell_type": "code",
   "execution_count": 9,
   "id": "96a02831-18fa-4958-8fe9-53254ec50c8b",
   "metadata": {},
   "outputs": [
    {
     "name": "stdout",
     "output_type": "stream",
     "text": [
      "Completion Rate for yes 'start': 98.93%\n",
      "Completion Rate for yes 'step_1': 89.98%\n",
      "Completion Rate for yes 'step_2': 82.53%\n",
      "Completion Rate for yes 'step_3': 77.43%\n",
      "Completion Rate for yes 'confirm': 69.29%\n",
      "Total users who reached the 'confirm' step: 18687\n"
     ]
    }
   ],
   "source": [
    "# Filter the DataFrame to include only rows where 'Variation' == 'Test'\n",
    "df_filtered_yes = df[df['Variation'] == 'Test']\n",
    "\n",
    "# Create a crosstab between 'client_id' and 'process_step' for the filtered users\n",
    "crosstab_yes = pd.crosstab(df_filtered_yes['client_id'], df_filtered_yes['process_step'])\n",
    "\n",
    "# Calculate the total number of unique users in the filtered data\n",
    "total_users = len(crosstab_yes)\n",
    "\n",
    "# Define the process steps\n",
    "process_steps = ['start', 'step_1', 'step_2', 'step_3', 'confirm']\n",
    "\n",
    "# Initialize a dictionary to store the completion rates\n",
    "completion_rates_test = {}\n",
    "\n",
    "# Iterate through each process step to calculate the completion rate\n",
    "for step in process_steps:\n",
    "    # Calculate the number of unique users who reached each step\n",
    "    completed_users = (crosstab_yes[step] > 0).sum()  # Count unique users who reached the step\n",
    "    completion_rate = completed_users / total_users if total_users > 0 else 0  # Prevent division by zero\n",
    "    completion_rates_test[step] = completion_rate * 100  # Store the completion rate as a percentage\n",
    "\n",
    "# Print the completion rates for all steps\n",
    "for step, rate in completion_rates_test.items():\n",
    "    print(f\"Completion Rate for yes '{step}': {rate:.2f}%\")\n",
    "\n",
    "# Calculate the total number of unique users who reached the 'confirm' step\n",
    "confirm_testuser = (crosstab_yes['confirm'] > 0).sum()\n",
    "\n",
    "# Print the total number of users who reached the 'confirm' step\n",
    "print(f\"Total users who reached the 'confirm' step: {confirm_testuser}\")\n"
   ]
  },
  {
   "cell_type": "code",
   "execution_count": 10,
   "id": "3d209c49-3ba4-4710-95e1-b0c31220dd4f",
   "metadata": {},
   "outputs": [],
   "source": [
    "# Create a DataFrame from the completion rates dictionary\n",
    "df_completion_rates_test = pd.DataFrame(list(completion_rates.items()), columns=['Process Step', 'Completion Rate'])\n",
    "\n",
    "# Save it to a CSV for Tableau import\n",
    "df_completion_rates_test.to_csv('completion_rates_test.csv', index=False)"
   ]
  },
  {
   "cell_type": "markdown",
   "id": "428578e5-57be-430d-848d-1a2d8c3ff228",
   "metadata": {},
   "source": [
    "<h1>Proportions of NON TEST Clients and Process Step</h1>"
   ]
  },
  {
   "cell_type": "code",
   "execution_count": 12,
   "id": "0feac1be-e80c-4d09-a835-8aa471340cc1",
   "metadata": {},
   "outputs": [
    {
     "name": "stdout",
     "output_type": "stream",
     "text": [
      "Completion Rate for no 'start': 99.43%\n",
      "Completion Rate for no 'step_1': 85.64%\n",
      "Completion Rate for no 'step_2': 79.25%\n",
      "Completion Rate for no 'step_3': 74.04%\n",
      "Completion Rate for no 'confirm': 65.59%\n",
      "Total users who reached the 'confirm' step: 15434\n"
     ]
    }
   ],
   "source": [
    "# Filter the DataFrame to include only rows where 'Variation' == 'Control\n",
    "df_filtered_no = df[df['Variation'] == 'Control']\n",
    "\n",
    "# Create a crosstab between 'client_id' and 'process_step' for the filtered users\n",
    "crosstab_no = pd.crosstab(df_filtered_no['client_id'], df_filtered_no['process_step'])\n",
    "\n",
    "# Calculate the total number of unique users in the filtered data\n",
    "total_users = len(crosstab_no)\n",
    "\n",
    "# Define the process steps\n",
    "process_steps = ['start', 'step_1', 'step_2', 'step_3', 'confirm']\n",
    "\n",
    "# Initialize a dictionary to store the completion rates\n",
    "completion_rates_control = {}\n",
    "\n",
    "# Iterate through each process step to calculate the completion rate\n",
    "for step in process_steps:\n",
    "    # Calculate the number of unique users who reached each step\n",
    "    completed_users = (crosstab_no[step] > 0).sum()  # Count unique users who reached the step\n",
    "    completion_rate = completed_users / total_users if total_users > 0 else 0  # Prevent division by zero\n",
    "    completion_rates_control[step] = completion_rate * 100  # Store the completion rate as a percentage\n",
    "\n",
    "# Print the completion rates for all steps\n",
    "for step, rate in completion_rates_control.items():\n",
    "    print(f\"Completion Rate for no '{step}': {rate:.2f}%\")\n",
    "\n",
    "# Calculate the total number of unique users who reached the 'confirm' step\n",
    "confirm_controluser = (crosstab_no['confirm'] > 0).sum()\n",
    "\n",
    "# Print the total number of users who reached the 'confirm' step\n",
    "print(f\"Total users who reached the 'confirm' step: {confirm_controluser}\")\n"
   ]
  },
  {
   "cell_type": "code",
   "execution_count": 13,
   "id": "1329d60c-143d-43fb-acbf-139ddb30d35d",
   "metadata": {},
   "outputs": [],
   "source": [
    "# Create a DataFrame from the completion rates dictionary\n",
    "df_completion_rates_control = pd.DataFrame(list(completion_rates.items()), columns=['Process Step', 'Completion Rate'])\n",
    "\n",
    "# Save it to a CSV for Tableau import\n",
    "df_completion_rates_control.to_csv('completion_rates_control.csv', index=False)"
   ]
  },
  {
   "cell_type": "markdown",
   "id": "369240cd-66cc-4e31-908e-b884f0b263fb",
   "metadata": {},
   "source": [
    "<h1>Error Rate All User</h1>"
   ]
  },
  {
   "cell_type": "markdown",
   "id": "b443b428-d676-473c-a884-a45d2df7807c",
   "metadata": {},
   "source": [
    "#Error Rates: If there’s a step where users go back to a previous step, it may indicate confusion or an error. \n",
    "#Moving from a later step to an earlier one should be considered an error."
   ]
  },
  {
   "cell_type": "code",
   "execution_count": 16,
   "id": "b6141642-bd63-49b0-abf0-73f2b51a6f33",
   "metadata": {},
   "outputs": [
    {
     "name": "stdout",
     "output_type": "stream",
     "text": [
      "Total Errors: 32423\n",
      "Error Rate: 10.09%\n"
     ]
    }
   ],
   "source": [
    "# Convert date_time column to datetime format\n",
    "df['date_time'] = pd.to_datetime(df['date_time'])\n",
    "\n",
    "#df = df.dropna()\n",
    "# Manually define the mapping dictionary for 'process_step'\n",
    "# Assigning specific numeric values to each step\n",
    "mapping = {\n",
    "    'start': 0,  \n",
    "    'step_1': 1,  \n",
    "    'step_2': 2,\n",
    "    'step_3' : 3,\n",
    "    'confirm' : 4\n",
    "}\n",
    "\n",
    "# Map the 'process_step' column using the defined mapping\n",
    "df['process_step_numeric'] = df['process_step'].map(mapping)\n",
    "\n",
    "# Sort the dataframe by client_id and date_time\n",
    "df = df.sort_values(by=['client_id', 'date_time'])\n",
    "\n",
    "# Create a new column to track if the user moved to a previous step\n",
    "df['error'] = df.groupby('client_id')['process_step_numeric'].diff().apply(lambda x: x < 0)\n",
    "\n",
    "# Filter rows where an error occurred\n",
    "error_rows = df[df['error'] == True]\n",
    "\n",
    "# Calculate the total error rate (number of errors / total steps)\n",
    "total_errors = error_rows.shape[0]\n",
    "total_steps = df.shape[0]\n",
    "error_rate = total_errors / total_steps\n",
    "\n",
    "print(f\"Total Errors: {total_errors}\")\n",
    "print(f\"Error Rate: {error_rate:.2%}\")\n",
    "\n",
    "## Total Errors are more than test + control errors because of NaN values, when dropping NaN values they add up to the same"
   ]
  },
  {
   "cell_type": "code",
   "execution_count": 17,
   "id": "ef378c7d-4756-4b12-9fb2-2d1a6a922a30",
   "metadata": {},
   "outputs": [
    {
     "data": {
      "text/plain": [
       "50500"
      ]
     },
     "execution_count": 17,
     "metadata": {},
     "output_type": "execute_result"
    }
   ],
   "source": [
    "df['client_id'].nunique()"
   ]
  },
  {
   "cell_type": "markdown",
   "id": "feddd7b7-c0a0-4a10-a43b-d4bc094d14ec",
   "metadata": {},
   "source": [
    "<h1>Average Duration by User for Steps</h1>"
   ]
  },
  {
   "cell_type": "code",
   "execution_count": 19,
   "id": "3fd2ce06-e17c-4f3e-a277-3f5fa6e9ef4d",
   "metadata": {},
   "outputs": [],
   "source": [
    "# Time Spent on Each Step: The average duration users spend on each step.\n",
    "\n",
    "df['date_time'] = pd.to_datetime(df['date_time'])\n",
    "\n",
    "# Create separate columns for date and time\n",
    "#df['date'] = df['date_time'].dt.date\n",
    "#df['time'] = df['date_time'].dt.time\n",
    "#df = df.drop('date_time', axis=1)\n",
    "#df = df[[\"client_id\",\"visitor_id\",\"visit_id\",\"Variation\",\"test\",\"date\",\"time\"]]\n",
    "\n",
    "df = df.sort_values(by=['client_id', 'date_time'])\n",
    "\n",
    "df = df.sort_values(by=['client_id', 'visitor_id', 'visit_id', 'date_time'])\n",
    "\n",
    "# Calculate the time difference between each step within each visit\n",
    "df['duration'] = df.groupby(['client_id', 'visitor_id', 'visit_id'])['date_time'].diff().dt.total_seconds().abs()\n",
    "\n",
    "avg_step_duration_clients = df.groupby('client_id')['duration'].mean().reset_index()\n"
   ]
  },
  {
   "cell_type": "code",
   "execution_count": 20,
   "id": "91f011c5-0b9d-4d56-81e6-5a6252967af2",
   "metadata": {},
   "outputs": [],
   "source": [
    "avg_step_duration_total = df.groupby('process_step')['duration'].mean().reset_index()"
   ]
  },
  {
   "cell_type": "markdown",
   "id": "b2589776-75b9-4bbf-9da9-c66980bfec63",
   "metadata": {},
   "source": [
    "<h1>Average Duration by Tests user for Steps</h1>"
   ]
  },
  {
   "cell_type": "code",
   "execution_count": 22,
   "id": "842e7d3d-517b-4abd-988e-8900511760fe",
   "metadata": {},
   "outputs": [
    {
     "name": "stdout",
     "output_type": "stream",
     "text": [
      "  process_step    duration\n",
      "0      confirm  128.769658\n",
      "1        start  147.140325\n",
      "2       step_1   37.704369\n",
      "3       step_2   48.131611\n",
      "4       step_3   96.850972\n",
      "  process_step  duration\n",
      "0      confirm      56.0\n",
      "1        start      55.0\n",
      "2       step_1      11.0\n",
      "3       step_2      25.0\n",
      "4       step_3      66.0\n",
      "  process_step  duration\n",
      "0      confirm   14581.0\n",
      "1        start   24819.0\n",
      "2       step_1    3636.0\n",
      "3       step_2    1858.0\n",
      "4       step_3    1923.0\n",
      "  process_step  duration\n",
      "0      confirm       0.0\n",
      "1        start       0.0\n",
      "2       step_1       0.0\n",
      "3       step_2       0.0\n",
      "4       step_3       0.0\n"
     ]
    }
   ],
   "source": [
    "#df[\"test\"].unique()\n",
    "df_test = df[df['Variation'] == 'Test']\n",
    "avg_step_duration_mean_test = df_test.groupby('process_step')['duration'].mean().reset_index()\n",
    "print(avg_step_duration_mean_test)\n",
    "avg_step_duration_median_test = df_test.groupby('process_step')['duration'].median().reset_index()\n",
    "print(avg_step_duration_median_test)\n",
    "avg_step_duration_max_test = df_test.groupby('process_step')['duration'].max().reset_index()\n",
    "print(avg_step_duration_max_test)\n",
    "avg_step_duration_min_test = df_test.groupby('process_step')['duration'].min().reset_index()\n",
    "print(avg_step_duration_min_test)"
   ]
  },
  {
   "cell_type": "markdown",
   "id": "de2906b9-1645-4f45-a8fd-6ed459c10c41",
   "metadata": {},
   "source": [
    "<h1>Average Duration by Control user for Steps</h1>"
   ]
  },
  {
   "cell_type": "code",
   "execution_count": 24,
   "id": "fa94498f-6253-4244-b912-bfd106e121d7",
   "metadata": {},
   "outputs": [
    {
     "name": "stdout",
     "output_type": "stream",
     "text": [
      "  process_step    duration\n",
      "0      confirm  128.664715\n",
      "1        start  151.366026\n",
      "2       step_1   42.998741\n",
      "3       step_2   38.667857\n",
      "4       step_3   92.944258\n",
      "  process_step  duration\n",
      "0      confirm      73.0\n",
      "1        start      37.0\n",
      "2       step_1      18.0\n",
      "3       step_2      20.0\n",
      "4       step_3      66.0\n",
      "  process_step  duration\n",
      "0      confirm    9396.0\n",
      "1        start   40235.0\n",
      "2       step_1    4150.0\n",
      "3       step_2    1724.0\n",
      "4       step_3    3635.0\n",
      "  process_step  duration\n",
      "0      confirm       0.0\n",
      "1        start       0.0\n",
      "2       step_1       0.0\n",
      "3       step_2       0.0\n",
      "4       step_3       0.0\n"
     ]
    }
   ],
   "source": [
    "df_no_test = df[df['Variation'] == 'Control']\n",
    "avg_step_duration_mean_no_test = df_no_test.groupby('process_step')['duration'].mean().reset_index()\n",
    "print(avg_step_duration_mean_no_test)\n",
    "avg_step_duration_median_no_test = df_no_test.groupby('process_step')['duration'].median().reset_index()\n",
    "print(avg_step_duration_median_no_test)\n",
    "avg_step_duration_max_no_test = df_no_test.groupby('process_step')['duration'].max().reset_index()\n",
    "print(avg_step_duration_max_no_test)\n",
    "avg_step_duration_min_no_test = df_no_test.groupby('process_step')['duration'].min().reset_index()\n",
    "print(avg_step_duration_min_no_test)"
   ]
  },
  {
   "cell_type": "code",
   "execution_count": null,
   "id": "e588f206-efcd-4bd2-af4e-f38cd4fd2903",
   "metadata": {},
   "outputs": [],
   "source": []
  },
  {
   "cell_type": "markdown",
   "id": "3f60baf0-8e93-4fa9-a711-30b284e0d4c0",
   "metadata": {},
   "source": [
    "<h1>Error Rate TEST User</h1>"
   ]
  },
  {
   "cell_type": "code",
   "execution_count": null,
   "id": "ae26d562-34f2-4c69-ab35-a1894cca3ac6",
   "metadata": {},
   "outputs": [],
   "source": [
    "# Convert date_time column to datetime format\n",
    "df['date_time'] = pd.to_datetime(df['date_time'])\n",
    "\n",
    "# Filter the dataframe for users with 'Test' in the 'Variation' column\n",
    "filtered_test = df[df['Variation'] == 'Test'].copy()\n",
    "\n",
    "# Manually define the mapping dictionary for 'process_step'\n",
    "mapping = {\n",
    "    'start': 0,  \n",
    "    'step_1': 1,  \n",
    "    'step_2': 2,\n",
    "    'step_3': 3,\n",
    "    'confirm': 4\n",
    "}\n",
    "\n",
    "# Map the 'process_step' column using the defined mapping\n",
    "filtered_test['process_step_numeric'] = filtered_test['process_step'].map(mapping)\n",
    "\n",
    "# Sort the filtered dataframe by client_id and date_time\n",
    "filtered_test = filtered_test.sort_values(by=['client_id', 'date_time'])\n",
    "\n",
    "# Initialize a column to track errors\n",
    "filtered_test['error'] = False\n",
    "\n",
    "# Iterate through each unique client_id\n",
    "for client_id in filtered_test['client_id'].unique():\n",
    "    # Get the steps for this specific client\n",
    "    client_data = filtered_test[filtered_test['client_id'] == client_id]\n",
    "    \n",
    "    # Loop through each step for the current client\n",
    "    previous_step = None\n",
    "    for i in range(1, len(client_data)):\n",
    "        current_step = client_data.iloc[i]['process_step_numeric']\n",
    "        previous_step = client_data.iloc[i - 1]['process_step_numeric']\n",
    "        \n",
    "        # Check if the current step is a repeat or goes backward\n",
    "        if current_step <= previous_step:\n",
    "            # Mark the error in the main dataframe\n",
    "            filtered_test.loc[client_data.index[i], 'error'] = True\n",
    "\n",
    "# Filter rows where an error occurred\n",
    "error_rows = filtered_test[filtered_test['error'] == True]\n",
    "\n",
    "# Calculate the total error rate (number of errors / total steps)\n",
    "test_errors = error_rows.shape[0]\n",
    "test_steps = filtered_test.shape[0]  # Use filtered dataframe for total steps\n",
    "test_error_rate = test_errors / test_steps if test_steps > 0 else 0  # Avoid division by zero\n",
    "\n",
    "print(f\"Total Test Errors: {test_errors}\")\n",
    "print(f\"Test Error Rate: {test_error_rate:.2%}\")\n"
   ]
  },
  {
   "cell_type": "code",
   "execution_count": null,
   "id": "c4bdd17a-f476-442d-898e-99a8929ae5cf",
   "metadata": {},
   "outputs": [],
   "source": [
    "#extract to tableau\n",
    "\n",
    "# Select relevant columns for visualization in Tableau\n",
    "error_test = filtered_test[['client_id', 'date_time', 'process_step', 'error']]\n",
    "\n",
    "# Save the data into a CSV file\n",
    "error_test.to_csv('error_test.csv', index=False)\n"
   ]
  },
  {
   "cell_type": "raw",
   "id": "f1cecdaa-46ee-42d4-8300-87deb048f95c",
   "metadata": {},
   "source": [
    "# Convert date_time column to datetime format\n",
    "df['date_time'] = pd.to_datetime(df['date_time'])\n",
    "\n",
    "# Filter the dataframe for users with 'Test' in the 'Variation' column\n",
    "filtered_test = df[df['Variation'] == 'Test'].copy()\n",
    "\n",
    "# Manually define the mapping dictionary for 'process_step'\n",
    "mapping = {\n",
    "    'start': 0,  \n",
    "    'step_1': 1,  \n",
    "    'step_2': 2,\n",
    "    'step_3': 3,\n",
    "    'confirm': 4\n",
    "}\n",
    "\n",
    "# Map the 'process_step' column using the defined mapping\n",
    "filtered_test['process_step_numeric'] = filtered_test['process_step'].map(mapping)\n",
    "\n",
    "# Sort the filtered dataframe by client_id and date_time\n",
    "filtered_test = filtered_test.sort_values(by=['client_id', 'date_time'])\n",
    "\n",
    "# Create a new column to track if the user moved to a previous step\n",
    "filtered_test['error'] = filtered_test.groupby('client_id')['process_step_numeric'].diff().apply(lambda x: x < 0)\n",
    "\n",
    "# Filter rows where an error occurred\n",
    "error_rows = filtered_test[filtered_test['error'] == True]\n",
    "\n",
    "# Calculate the total error rate (number of errors / total steps)\n",
    "test_errors = error_rows.shape[0]\n",
    "test_steps = filtered_test.shape[0]  # Use filtered dataframe for total steps\n",
    "test_error_rate = test_errors / test_steps if test_steps > 0 else 0  # Avoid division by zero\n",
    "\n",
    "print(f\"Total Test Errors: {test_errors}\")\n",
    "print(f\"Test Error Rate: {test_error_rate:.2%}\")\n"
   ]
  },
  {
   "cell_type": "markdown",
   "id": "f0be866b-2d62-47df-8497-b86446c404b7",
   "metadata": {},
   "source": [
    "<h1>Error Rate CONTROL User</h1>"
   ]
  },
  {
   "cell_type": "code",
   "execution_count": null,
   "id": "a5c3bd73-2367-4d63-af68-7974f5a6b4f6",
   "metadata": {},
   "outputs": [],
   "source": [
    "# Convert date_time column to datetime format\n",
    "df['date_time'] = pd.to_datetime(df['date_time'])\n",
    "\n",
    "# Filter the dataframe for users with 'Control' in the 'Variation' column\n",
    "filtered_control = df[df['Variation'] == 'Control'].copy()\n",
    "\n",
    "# Manually define the mapping dictionary for 'process_step'\n",
    "mapping = {\n",
    "    'start': 0,  \n",
    "    'step_1': 1,  \n",
    "    'step_2': 2,\n",
    "    'step_3': 3,\n",
    "    'confirm': 4\n",
    "}\n",
    "\n",
    "# Map the 'process_step' column using the defined mapping\n",
    "filtered_control['process_step_numeric'] = filtered_control['process_step'].map(mapping)\n",
    "\n",
    "# Sort the filtered dataframe by client_id and date_time\n",
    "filtered_control = filtered_control.sort_values(by=['client_id', 'date_time'])\n",
    "\n",
    "# Initialize a column to track errors\n",
    "filtered_control['error'] = False\n",
    "\n",
    "# Iterate through each unique client_id\n",
    "for client_id in filtered_control['client_id'].unique():\n",
    "    # Get the steps for this specific client\n",
    "    client_data = filtered_control[filtered_control['client_id'] == client_id]\n",
    "    \n",
    "    # Loop through each step for the current client\n",
    "    previous_step = None\n",
    "    for i in range(1, len(client_data)):\n",
    "        current_step = client_data.iloc[i]['process_step_numeric']\n",
    "        previous_step = client_data.iloc[i - 1]['process_step_numeric']\n",
    "        \n",
    "        # Check if the current step is a repeat or goes backward\n",
    "        if current_step <= previous_step:\n",
    "            # Mark the error in the main dataframe\n",
    "            filtered_control.loc[client_data.index[i], 'error'] = True\n",
    "\n",
    "# Filter rows where an error occurred\n",
    "error_rows = filtered_control[filtered_control['error'] == True]\n",
    "\n",
    "# Calculate the total error rate (number of errors / total steps)\n",
    "control_errors = error_rows.shape[0]\n",
    "control_steps = filtered_control.shape[0]  # Use filtered dataframe for total steps\n",
    "control_error_rate = control_errors / control_steps if control_steps > 0 else 0  # Avoid division by zero\n",
    "\n",
    "print(f\"Total Control Errors: {control_errors}\")\n",
    "print(f\"Control Error Rate: {control_error_rate:.2%}\")\n"
   ]
  },
  {
   "cell_type": "code",
   "execution_count": null,
   "id": "4131970a-fe7f-41ca-87bb-77f1fefcfd01",
   "metadata": {},
   "outputs": [],
   "source": [
    "#extract to tableau\n",
    "\n",
    "# Select relevant columns for visualization in Tableau\n",
    "error_control = filtered_control[['client_id', 'date_time', 'process_step', 'error']]\n",
    "\n",
    "# Save the data into a CSV file\n",
    "error_control.to_csv('error_control.csv', index=False)\n"
   ]
  },
  {
   "cell_type": "raw",
   "id": "42fb93a0-df34-4e07-8873-66b9b44860dc",
   "metadata": {},
   "source": [
    "# Convert date_time column to datetime format\n",
    "df['date_time'] = pd.to_datetime(df['date_time'])\n",
    "\n",
    "# Filter the dataframe for users with 'Test' in the 'Variation' column\n",
    "filtered_control = df[df['Variation'] == 'Control'].copy()\n",
    "\n",
    "# Manually define the mapping dictionary for 'process_step'\n",
    "mapping = {\n",
    "    'start': 0,  \n",
    "    'step_1': 1,  \n",
    "    'step_2': 2,\n",
    "    'step_3': 3,\n",
    "    'confirm': 4\n",
    "}\n",
    "\n",
    "# Map the 'process_step' column using the defined mapping\n",
    "filtered_control['process_step_numeric'] = filtered_control['process_step'].map(mapping)\n",
    "\n",
    "# Sort the filtered dataframe by client_id and date_time\n",
    "filtered_control = filtered_control.sort_values(by=['client_id', 'date_time'])\n",
    "\n",
    "# Create a new column to track if the user moved to a previous step\n",
    "filtered_control['error'] = filtered_control.groupby('client_id')['process_step_numeric'].diff().apply(lambda x: x < 0) | (filtered_control['process_step_numeric'].diff() == 0)\n",
    "\n",
    "# Filter rows where an error occurred\n",
    "error_rows = filtered_control[filtered_control['error'] == True]\n",
    "\n",
    "# Calculate the total error rate (number of errors / total steps)\n",
    "control_errors = error_rows.shape[0]\n",
    "control_steps = filtered_control.shape[0]  # Use filtered dataframe for total steps\n",
    "control_error_rate = control_errors / control_steps if test_steps > 0 else 0  # Avoid division by zero\n",
    "\n",
    "print(f\"Total Control Errors: {control_errors}\")\n",
    "print(f\"Control Error Rate: {control_error_rate:.2%}\")\n"
   ]
  },
  {
   "cell_type": "markdown",
   "id": "8653cc94-baab-4164-8ad9-b149dd07d787",
   "metadata": {},
   "source": [
    "<h1>HYPOTHESEN</h1>"
   ]
  },
  {
   "cell_type": "markdown",
   "id": "4c53dccf-bd7c-49c8-bd8e-bceb22a594a7",
   "metadata": {},
   "source": [
    "Null Hypothesis (H₀): There is no significant difference in the completion rates between the Test and Control groups.\n",
    "\n",
    "Alternative Hypothesis (H₁): There is a significant difference in the completion rates between the Test and Control groups."
   ]
  },
  {
   "cell_type": "code",
   "execution_count": null,
   "id": "c4888278-3149-4169-9c47-c0cf94f721a5",
   "metadata": {},
   "outputs": [],
   "source": [
    "crosstab_yes = pd.DataFrame(crosstab_yes).reset_index()\n",
    "\n",
    "crosstab_no = pd.DataFrame(crosstab_no).reset_index()\n",
    "\n",
    "crosstab_yes['test'] = crosstab_yes['confirm'].apply(lambda x:1 if x > 0 else 0)\n",
    "\n",
    "crosstab_no['test'] = crosstab_no['confirm'].apply(lambda x:1 if x > 0 else 0)\n",
    "\n",
    "st.ttest_ind(crosstab_yes['test'], crosstab_no['test'], alternative='two-sided')"
   ]
  },
  {
   "cell_type": "code",
   "execution_count": null,
   "id": "d635cfce-7523-4d73-b2dd-768d7ee887b4",
   "metadata": {},
   "outputs": [],
   "source": [
    "# Perform a two-sample t-test \n",
    "t_stat, p_value = st.ttest_ind(crosstab_yes['test'], crosstab_no['test'], alternative='two-sided')\n",
    "\n",
    "# Print the results\n",
    "print(f\"t-statistic: {t_stat}, p-value: {p_value}\")\n",
    "\n",
    "# Interpretation\n",
    "alpha = 0.05  # Significance level\n",
    "if p_value < alpha:\n",
    "    print(\"Reject the null hypothesis (H₀): There is a significant difference in completion rates.\")\n",
    "else:\n",
    "    print(\"Fail to reject the null hypothesis (H₀): There is no significant difference in completion rates.\")\n"
   ]
  },
  {
   "cell_type": "code",
   "execution_count": null,
   "id": "713924ac-4b4a-4ebf-80e2-6620878bc95b",
   "metadata": {},
   "outputs": [],
   "source": [
    "import matplotlib.pyplot as plt\n",
    "\n",
    "# Completion rates\n",
    "steps = ['start', 'step_1', 'step_2', 'step_3', 'confirm']\n",
    "test_rates = [98.93, 89.98, 82.53, 77.43, 69.29]\n",
    "control_rates = [99.43, 85.64, 79.25, 74.04, 65.59]\n",
    "\n",
    "# Create a bar chart to compare completion rates\n",
    "plt.figure(figsize=(10,6))\n",
    "plt.bar(steps, test_rates, width=0.4, label='Test Group', align='center')\n",
    "plt.bar(steps, control_rates, width=0.4, label='Control Group', align='edge')\n",
    "plt.xlabel('Process Steps')\n",
    "plt.ylabel('Completion Rate (%)')\n",
    "plt.title('Completion Rates for Test vs Control Groups')\n",
    "plt.legend()\n",
    "plt.show()\n"
   ]
  },
  {
   "cell_type": "raw",
   "id": "7347a003-f91f-40f2-a123-2ac09640622b",
   "metadata": {},
   "source": [
    "Completion Rate for no 'start': 99.43%\n",
    "Completion Rate for no 'step_1': 85.64%\n",
    "Completion Rate for no 'step_2': 79.25%\n",
    "Completion Rate for no 'step_3': 74.04%\n",
    "Completion Rate for no 'confirm': 65.59%\n",
    "\n",
    "Completion Rate for yes 'start': 98.93%\n",
    "Completion Rate for yes 'step_1': 89.98%\n",
    "Completion Rate for yes 'step_2': 82.53%\n",
    "Completion Rate for yes 'step_3': 77.43%\n",
    "Completion Rate for yes 'confirm': 69.29%"
   ]
  },
  {
   "cell_type": "markdown",
   "id": "9ea6b9c1-4eaa-4432-9c7c-f5fd7059a2b9",
   "metadata": {},
   "source": [
    "Null Hypothesis (H₀):\n",
    "There is no significant difference in engagement between genders with either the new or old process.\n",
    "\n",
    "Alternative Hypothesis (H₁):\n",
    "There is a significant difference in engagement between genders with either the new or old process."
   ]
  },
  {
   "cell_type": "code",
   "execution_count": null,
   "id": "20faae73-0305-4132-830c-774068189704",
   "metadata": {},
   "outputs": [],
   "source": [
    "df2 = pd.read_csv('new_final_demo.csv')"
   ]
  },
  {
   "cell_type": "code",
   "execution_count": null,
   "id": "d487fe80-7493-48fc-8192-f1f2ba7f3290",
   "metadata": {},
   "outputs": [],
   "source": [
    "merged_df = pd.merge(df, df2, on='client_id', how='inner')\n",
    "\n",
    "unique_clients_df = merged_df.drop_duplicates(subset='client_id')\n",
    "\n",
    "unique_clients_df = unique_clients_df.dropna()\n",
    "unique_clients_df['clnt_age'] = np.floor(unique_clients_df['clnt_age']).astype(int)\n"
   ]
  },
  {
   "cell_type": "code",
   "execution_count": null,
   "id": "026255dd-6fe4-4ff0-b266-3f5e37429565",
   "metadata": {},
   "outputs": [],
   "source": [
    "# Specify the folder path and file name\n",
    "folder_path = '/Users/Michimon/Documents/GitHub/vanguard-ab-test' # Replace with your folder path\n",
    "file_name = 'unique_clients_df.csv'\n",
    "full_path = f'{folder_path}/{file_name}'\n",
    "\n",
    "# Export the DataFrame to CSV\n",
    "unique_clients_df.to_csv(full_path, index=False)  # index=False to avoid writing row indices\n",
    "\n",
    "print(f'DataFrame exported as CSV to {full_path}')"
   ]
  },
  {
   "cell_type": "code",
   "execution_count": null,
   "id": "64db2a5c-df02-4d45-8896-dd6a1652a13e",
   "metadata": {},
   "outputs": [],
   "source": [
    "# Specify the folder path and file name\n",
    "folder_path = '/Users/Michimon/Documents/GitHub/vanguard-ab-test' # Replace with your folder path\n",
    "file_name = 'merged_df.csv'\n",
    "full_path = f'{folder_path}/{file_name}'\n",
    "\n",
    "# Export the DataFrame to CSV\n",
    "merged_df.to_csv(full_path, index=False)  # index=False to avoid writing row indices\n",
    "\n",
    "print(f'DataFrame exported as CSV to {full_path}')"
   ]
  },
  {
   "cell_type": "code",
   "execution_count": null,
   "id": "6117db89-0078-463b-8b38-4200d14216d1",
   "metadata": {},
   "outputs": [],
   "source": [
    "#crosstab_F_control = pd.DataFrame(crosstab_yes).reset_index()\n",
    "#crosstab_M_control = pd.DataFrame(crosstab_no).reset_index()"
   ]
  },
  {
   "cell_type": "code",
   "execution_count": null,
   "id": "7c4b1e74-75b4-49cc-8274-0276c6bedd64",
   "metadata": {},
   "outputs": [],
   "source": [
    "\n",
    "crosstab_yes['test'] = crosstab_yes['confirm'].apply(lambda x:1 if x > 0 else 0)\n",
    "crosstab_no['test'] = crosstab_no['confirm'].apply(lambda x:1 if x > 0 else 0)\n",
    "\n",
    "st.ttest_ind(crosstab_yes['test'], crosstab_no['test'], alternative='two-sided')"
   ]
  },
  {
   "cell_type": "code",
   "execution_count": null,
   "id": "ea9b8820-7c15-4c8c-94a4-37edbf19d4d7",
   "metadata": {},
   "outputs": [],
   "source": [
    "#crosstab_F_control = pd.DataFrame(crosstab_yes).reset_index()\n",
    "#crosstab_M_control = pd.DataFrame(crosstab_no).reset_index()"
   ]
  },
  {
   "cell_type": "code",
   "execution_count": null,
   "id": "f404d2b7-1f4e-4fdd-bfae-d92e577cc80a",
   "metadata": {},
   "outputs": [],
   "source": [
    "# Filter for female users in the 'Control' group\n",
    "filtered_F_control = merged_df[(merged_df['gendr'] == 'F') & (merged_df['Variation'] == 'Control')]\n",
    "# Filter for female users in the 'Test' group\n",
    "filtered_F_test = merged_df[(merged_df['gendr'] == 'F') & (merged_df['Variation'] == 'Test')]\n",
    "\n",
    "# Create a crosstab between 'client_id' and 'process_step' for the filtered users\n",
    "crosstab_F_control = pd.crosstab(filtered_F_control['client_id'], filtered_F_control['process_step'])\n",
    "crosstab_M_control = pd.crosstab(filtered_M_control['client_id'], filtered_M_control['process_step'])\n",
    "\n",
    "\n",
    "\n",
    "crosstab_F_control['test'] = crosstab_F_control['confirm'].apply(lambda x:1 if x > 0 else 0)\n",
    "crosstab_M_control['test'] = crosstab_M_control['confirm'].apply(lambda x:1 if x > 0 else 0)\n",
    "\n",
    "\n",
    "# Perform a two-sample t-test \n",
    "t_stat, p_value = st.ttest_ind(crosstab_F_control['test'], crosstab_M_control['test'], alternative='two-sided')\n",
    "\n",
    "# Print the results\n",
    "print(f\"t-statistic: {t_stat}, p-value: {p_value}\")\n",
    "\n",
    "# Interpretation\n",
    "alpha = 0.05  # Significance level\n",
    "if p_value < alpha:\n",
    "    print(\"Reject the null hypothesis (H₀): There is a significant difference in engagement between genders with the old process.\")\n",
    "else:\n",
    "    print(\"Fail to reject the null hypothesis (H₀): There is no significant difference in engagement between genders with the old process..\")\n"
   ]
  },
  {
   "cell_type": "code",
   "execution_count": null,
   "id": "908efd68-ffc2-427e-b752-428d032de5de",
   "metadata": {},
   "outputs": [],
   "source": [
    "# Filter for male users in the 'Control' group\n",
    "filtered_M_control = merged_df[(merged_df['gendr'] == 'M') & (merged_df['Variation'] == 'Control')]\n",
    "# Filter for male users in the 'Test' group\n",
    "filtered_M_test = merged_df[(merged_df['gendr'] == 'M') & (merged_df['Variation'] == 'Test')]\n",
    "\n",
    "# Create a crosstab between 'client_id' and 'process_step' for the filtered users\n",
    "crosstab_F_test = pd.crosstab(filtered_F_test['client_id'], filtered_F_test['process_step'])\n",
    "crosstab_M_test = pd.crosstab(filtered_M_test['client_id'], filtered_M_test['process_step'])\n",
    "\n",
    "crosstab_F_test['test'] = crosstab_F_test['confirm'].apply(lambda x:1 if x > 0 else 0)\n",
    "crosstab_M_test['test'] = crosstab_M_test['confirm'].apply(lambda x:1 if x > 0 else 0)\n",
    "\n",
    "\n",
    "# Perform a two-sample t-test \n",
    "t_stat, p_value = st.ttest_ind(crosstab_F_test['test'], crosstab_M_test['test'], alternative='two-sided')\n",
    "\n",
    "# Print the results\n",
    "print(f\"t-statistic: {t_stat:.4f}, p-value: {p_value}\")\n",
    "\n",
    "# Interpretation\n",
    "alpha = 0.05  # Significance level\n",
    "if p_value < alpha:\n",
    "    print(\"Reject the null hypothesis (H₀): There is a significant difference in engagement between genders with the new process.\")\n",
    "else:\n",
    "    print(\"Fail to reject the null hypothesis (H₀): There is no significant difference in engagement between genders with the new process..\")\n"
   ]
  },
  {
   "cell_type": "code",
   "execution_count": null,
   "id": "055a2542-f140-436a-9752-1d77f2fb408c",
   "metadata": {},
   "outputs": [],
   "source": [
    "crosstab_F_test"
   ]
  },
  {
   "cell_type": "code",
   "execution_count": null,
   "id": "a58804e7-4a9b-4c7f-b4be-8f5ad2215f4f",
   "metadata": {},
   "outputs": [],
   "source": [
    "crosstab_F_test['test'].value_counts()"
   ]
  },
  {
   "cell_type": "code",
   "execution_count": null,
   "id": "167f5185-1540-45b2-9c08-b721fba95bbb",
   "metadata": {},
   "outputs": [],
   "source": [
    "crosstab_M_test['test'].value_counts()"
   ]
  },
  {
   "cell_type": "code",
   "execution_count": null,
   "id": "dc73e06f-c3aa-42aa-8cf2-f653f7c58b68",
   "metadata": {},
   "outputs": [],
   "source": [
    "merged_df"
   ]
  },
  {
   "cell_type": "code",
   "execution_count": null,
   "id": "3ab038be-34d0-44b7-8f8f-b62169d79c69",
   "metadata": {},
   "outputs": [],
   "source": []
  }
 ],
 "metadata": {
  "kernelspec": {
   "display_name": "Python 3 (ipykernel)",
   "language": "python",
   "name": "python3"
  },
  "language_info": {
   "codemirror_mode": {
    "name": "ipython",
    "version": 3
   },
   "file_extension": ".py",
   "mimetype": "text/x-python",
   "name": "python",
   "nbconvert_exporter": "python",
   "pygments_lexer": "ipython3",
   "version": "3.12.4"
  }
 },
 "nbformat": 4,
 "nbformat_minor": 5
}
