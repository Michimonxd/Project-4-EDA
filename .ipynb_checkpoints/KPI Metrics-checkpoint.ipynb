{
 "cells": [
  {
   "cell_type": "code",
   "execution_count": 165,
   "id": "f9be3a88-6a87-42d4-8bf0-877e708bb56b",
   "metadata": {},
   "outputs": [],
   "source": [
    "import pandas as pd\n",
    "import matplotlib.pyplot as plt\n",
    "import seaborn as sns\n",
    "import numpy as np\n",
    "\n",
    "%matplotlib inline"
   ]
  },
  {
   "cell_type": "code",
   "execution_count": 167,
   "id": "e1e2e00a-8999-403c-95c8-79f47e025cfa",
   "metadata": {},
   "outputs": [],
   "source": [
    "df = pd.read_csv('client_old_new_df.csv')"
   ]
  },
  {
   "cell_type": "code",
   "execution_count": 194,
   "id": "8bf93f39-f8b4-46cb-a748-e176e7fb5958",
   "metadata": {},
   "outputs": [
    {
     "data": {
      "text/plain": [
       "Variation\n",
       "Test       177847\n",
       "Control    143462\n",
       "Name: count, dtype: int64"
      ]
     },
     "execution_count": 194,
     "metadata": {},
     "output_type": "execute_result"
    }
   ],
   "source": [
    "df['Variation'].value_counts()"
   ]
  },
  {
   "cell_type": "markdown",
   "id": "b7e66fc2-9a0d-4064-8372-418b07ad1b22",
   "metadata": {},
   "source": [
    "Completion Rate:\n",
    "The proportion of users who reach the final ‘confirm’ step.\n",
    "\n",
    "Time Spent on Each Step:\n",
    "The average duration users spend on each step.\n",
    "\n",
    "Error Rates:\n",
    "If there’s a step where users go back to a previous step, it may indicate confusion or an error. Moving from a later step to an earlier one should be considered an error."
   ]
  },
  {
   "cell_type": "code",
   "execution_count": 170,
   "id": "1c1d611b-bc22-4f46-a0d3-f011d99ef375",
   "metadata": {},
   "outputs": [
    {
     "data": {
      "text/plain": [
       "test\n",
       "yes    449831\n",
       "no     305574\n",
       "Name: count, dtype: int64"
      ]
     },
     "execution_count": 170,
     "metadata": {},
     "output_type": "execute_result"
    }
   ],
   "source": [
    "df['test'].value_counts()"
   ]
  },
  {
   "cell_type": "code",
   "execution_count": 171,
   "id": "d2693139-eb50-46d5-aac6-4ac0f99fbedc",
   "metadata": {},
   "outputs": [
    {
     "name": "stdout",
     "output_type": "stream",
     "text": [
      "Completion Rate: 85.69%\n"
     ]
    }
   ],
   "source": [
    "#Completion Rate: The proportion of ALL users who reach the final ‘confirm’ step.\n",
    "#Create crosstab\n",
    "crosstab_process = pd.crosstab(df['client_id'], df['process_step'])\n",
    "\n",
    "#Calculate the completion rate\n",
    "total_users_all = len(crosstab_process)\n",
    "completed_users = crosstab_process['confirm'].sum()\n",
    "\n",
    "completion_rate = completed_users / total_users_all\n",
    "\n",
    "print(f\"Completion Rate: {completion_rate * 100:.2f}%\")\n"
   ]
  },
  {
   "cell_type": "code",
   "execution_count": 218,
   "id": "fb2deb47-d7cb-4e4d-b4f3-ef04aaf8b06b",
   "metadata": {},
   "outputs": [
    {
     "name": "stdout",
     "output_type": "stream",
     "text": [
      "Completion Rate for users with 'yes' in 'test': 85.77%\n"
     ]
    }
   ],
   "source": [
    "# Filter the DataFrame to include only rows where 'test' == 'yes'\n",
    "df_filtered_yes = df[df['test'] == 'yes']\n",
    "\n",
    "# Create a crosstab between 'client_id' and 'process_step' for the filtered users\n",
    "crosstab_yes = pd.crosstab(df_filtered_yes['client_id'], df_filtered_yes['process_step'])\n",
    "\n",
    "# Calculate the completion rate for users who have 'yes' in the 'test' column\n",
    "total_users = len(crosstab_yes)  # Total number of unique users in the filtered data\n",
    "completed_users = crosstab_yes['confirm'].sum()  # Sum of users who reached the 'confirm' step\n",
    "\n",
    "# Calculate the completion rate\n",
    "completion_rate = completed_users / total_users\n",
    "\n",
    "print(f\"Completion Rate for users with 'yes' in 'test': {completion_rate * 100:.2f}%\")"
   ]
  },
  {
   "cell_type": "code",
   "execution_count": 220,
   "id": "9abb594d-86ad-4519-a33d-bb12045b7598",
   "metadata": {},
   "outputs": [
    {
     "name": "stdout",
     "output_type": "stream",
     "text": [
      "Completion Rate for users with 'no' in 'test': 85.58%\n"
     ]
    }
   ],
   "source": [
    "# Filter the DataFrame to include only rows where 'test' == 'no'\n",
    "df_filtered_no = df[df['test'] == 'no']\n",
    "\n",
    "# Create a crosstab between 'client_id' and 'process_step' for the filtered users\n",
    "crosstab_no = pd.crosstab(df_filtered_no['client_id'], df_filtered_no['process_step'])\n",
    "\n",
    "# Calculate the completion rate for users who have 'yes' in the 'test' column\n",
    "total_users = len(crosstab_no)  # Total number of unique users in the filtered data\n",
    "completed_users = crosstab_no['confirm'].sum()  # Sum of users who reached the 'confirm' step\n",
    "\n",
    "# Calculate the completion rate\n",
    "completion_rate = completed_users / total_users\n",
    "\n",
    "print(f\"Completion Rate for users with 'no' in 'test': {completion_rate * 100:.2f}%\")"
   ]
  },
  {
   "cell_type": "code",
   "execution_count": null,
   "id": "151b721c-a8d6-4af7-bd3b-41aed04ae2c6",
   "metadata": {},
   "outputs": [],
   "source": [
    "#Error Rates: If there’s a step where users go back to a previous step, it may indicate confusion or an error. \n",
    "#Moving from a later step to an earlier one should be considered an error."
   ]
  }
 ],
 "metadata": {
  "kernelspec": {
   "display_name": "Python 3 (ipykernel)",
   "language": "python",
   "name": "python3"
  },
  "language_info": {
   "codemirror_mode": {
    "name": "ipython",
    "version": 3
   },
   "file_extension": ".py",
   "mimetype": "text/x-python",
   "name": "python",
   "nbconvert_exporter": "python",
   "pygments_lexer": "ipython3",
   "version": "3.12.4"
  }
 },
 "nbformat": 4,
 "nbformat_minor": 5
}
