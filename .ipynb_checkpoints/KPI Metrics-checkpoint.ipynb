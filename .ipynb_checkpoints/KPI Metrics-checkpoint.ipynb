{
 "cells": [
  {
   "cell_type": "code",
   "execution_count": 593,
   "id": "f9be3a88-6a87-42d4-8bf0-877e708bb56b",
   "metadata": {},
   "outputs": [],
   "source": [
    "import pandas as pd\n",
    "import matplotlib.pyplot as plt\n",
    "import seaborn as sns\n",
    "import numpy as np\n",
    "\n",
    "%matplotlib inline"
   ]
  },
  {
   "cell_type": "code",
   "execution_count": 595,
   "id": "e1e2e00a-8999-403c-95c8-79f47e025cfa",
   "metadata": {},
   "outputs": [],
   "source": [
    "df = pd.read_csv('client_old_new_df.csv')"
   ]
  },
  {
   "cell_type": "code",
   "execution_count": 541,
   "id": "8bf93f39-f8b4-46cb-a748-e176e7fb5958",
   "metadata": {},
   "outputs": [
    {
     "data": {
      "text/plain": [
       "70609"
      ]
     },
     "execution_count": 541,
     "metadata": {},
     "output_type": "execute_result"
    }
   ],
   "source": [
    "df[\"client_id\"].nunique()"
   ]
  },
  {
   "cell_type": "code",
   "execution_count": 497,
   "id": "cccde4bf-6fc0-4c56-a208-0652f3148692",
   "metadata": {},
   "outputs": [],
   "source": [
    "#df.head(50)"
   ]
  },
  {
   "cell_type": "markdown",
   "id": "b7e66fc2-9a0d-4064-8372-418b07ad1b22",
   "metadata": {},
   "source": [
    "Completion Rate:\n",
    "The proportion of users who reach the final ‘confirm’ step.\n",
    "\n",
    "Time Spent on Each Step:\n",
    "The average duration users spend on each step.\n",
    "\n",
    "Error Rates:\n",
    "If there’s a step where users go back to a previous step, it may indicate confusion or an error. Moving from a later step to an earlier one should be considered an error."
   ]
  },
  {
   "cell_type": "markdown",
   "id": "38439d54-4671-4a9b-a33f-39543e1d3d13",
   "metadata": {},
   "source": [
    "<h1>Proportions of ALL Clients and Process Step</h1>"
   ]
  },
  {
   "cell_type": "code",
   "execution_count": 533,
   "id": "8fa32d84-9f96-4d8e-a926-2a07e299a83a",
   "metadata": {},
   "outputs": [
    {
     "name": "stdout",
     "output_type": "stream",
     "text": [
      "Completion Rate for 'start': 99.16%\n",
      "Completion Rate for 'step_1': 87.96%\n",
      "Completion Rate for 'step_2': 81.01%\n",
      "Completion Rate for 'step_3': 75.85%\n",
      "Completion Rate for 'confirm': 67.57%\n",
      "Overall Completion Rate for 'confirm': 67.57%\n"
     ]
    }
   ],
   "source": [
    "# Create crosstab between 'client_id' and 'process_step'\n",
    "crosstab_process = pd.crosstab(df['client_id'], df['process_step'])\n",
    "\n",
    "# Calculate the total number of unique users\n",
    "total_users_all = len(crosstab_process)\n",
    "\n",
    "# Define the process steps\n",
    "process_steps = ['start', 'step_1', 'step_2', 'step_3', 'confirm']\n",
    "\n",
    "# Initialize a dictionary to store the completion rates for each step\n",
    "completion_rates = {}\n",
    "\n",
    "# Iterate through each process step to calculate the completion rate\n",
    "for step in process_steps:\n",
    "    # Calculate the number of unique users who reached each step\n",
    "    completed_users = (crosstab_process[step] > 0).sum()  # Count unique users who reached the step\n",
    "    completion_rate = completed_users / total_users_all if total_users_all > 0 else 0  # Prevent division by zero\n",
    "    completion_rates[step] = completion_rate * 100  # Store the completion rate as a percentage\n",
    "\n",
    "# Print the completion rates for all steps\n",
    "for step, rate in completion_rates.items():\n",
    "    print(f\"Completion Rate for '{step}': {rate:.2f}%\")\n",
    "\n",
    "# Calculate the overall completion rate for the 'confirm' step\n",
    "overall_completion_rate = completion_rates['confirm']\n",
    "print(f\"Overall Completion Rate for 'confirm': {overall_completion_rate:.2f}%\")\n"
   ]
  },
  {
   "cell_type": "code",
   "execution_count": 535,
   "id": "b3dff9a3-60cf-4cfe-83b7-4b6b0e800629",
   "metadata": {},
   "outputs": [
    {
     "data": {
      "text/plain": [
       "(50500,)"
      ]
     },
     "execution_count": 535,
     "metadata": {},
     "output_type": "execute_result"
    }
   ],
   "source": [
    "crosstab_process['confirm'].shape"
   ]
  },
  {
   "cell_type": "markdown",
   "id": "6566df56-3222-46b0-a1a0-1e398dc88b99",
   "metadata": {},
   "source": [
    "<h1>Proportions of TEST Clients and Process Step</h1>"
   ]
  },
  {
   "cell_type": "code",
   "execution_count": 284,
   "id": "96a02831-18fa-4958-8fe9-53254ec50c8b",
   "metadata": {},
   "outputs": [
    {
     "name": "stdout",
     "output_type": "stream",
     "text": [
      "Completion Rate for yes 'start': 98.93%\n",
      "Completion Rate for yes 'step_1': 89.98%\n",
      "Completion Rate for yes 'step_2': 82.53%\n",
      "Completion Rate for yes 'step_3': 77.43%\n",
      "Completion Rate for yes 'confirm': 69.29%\n"
     ]
    }
   ],
   "source": [
    "# Filter the DataFrame to include only rows where 'Variation' == 'Test'\n",
    "df_filtered_yes = df[df['Variation'] == 'Test']\n",
    "\n",
    "# Create a crosstab between 'client_id' and 'process_step' for the filtered users\n",
    "crosstab_yes = pd.crosstab(df_filtered_yes['client_id'], df_filtered_yes['process_step'])\n",
    "\n",
    "# Calculate the total number of unique users in the filtered data\n",
    "total_users = len(crosstab_yes)\n",
    "\n",
    "# Define the process steps\n",
    "process_steps = ['start', 'step_1', 'step_2', 'step_3', 'confirm']\n",
    "\n",
    "# Initialize a dictionary to store the completion rates\n",
    "completion_rates = {}\n",
    "\n",
    "# Iterate through each process step to calculate the completion rate\n",
    "for step in process_steps:\n",
    "    # Calculate the number of unique users who reached each step\n",
    "    completed_users = (crosstab_yes[step] > 0).sum()  # Count unique users who reached the step\n",
    "    completion_rate = completed_users / total_users if total_users > 0 else 0  # Prevent division by zero\n",
    "    completion_rates[step] = completion_rate * 100  # Store the completion rate as a percentage\n",
    "\n",
    "# Print the completion rates for all steps\n",
    "for step, rate in completion_rates.items():\n",
    "    print(f\"Completion Rate for yes '{step}': {rate:.2f}%\")\n"
   ]
  },
  {
   "cell_type": "markdown",
   "id": "428578e5-57be-430d-848d-1a2d8c3ff228",
   "metadata": {},
   "source": [
    "<h1>Proportions of NON TEST Clients and Process Step</h1>"
   ]
  },
  {
   "cell_type": "code",
   "execution_count": 286,
   "id": "0feac1be-e80c-4d09-a835-8aa471340cc1",
   "metadata": {},
   "outputs": [
    {
     "name": "stdout",
     "output_type": "stream",
     "text": [
      "Completion Rate for no 'start': 99.43%\n",
      "Completion Rate for no 'step_1': 85.64%\n",
      "Completion Rate for no 'step_2': 79.25%\n",
      "Completion Rate for no 'step_3': 74.04%\n",
      "Completion Rate for no 'confirm': 65.59%\n"
     ]
    }
   ],
   "source": [
    "# Filter the DataFrame to include only rows where 'Variation' == 'Control\n",
    "df_filtered_yes = df[df['Variation'] == 'Control']\n",
    "\n",
    "# Create a crosstab between 'client_id' and 'process_step' for the filtered users\n",
    "crosstab_yes = pd.crosstab(df_filtered_yes['client_id'], df_filtered_yes['process_step'])\n",
    "\n",
    "# Calculate the total number of unique users in the filtered data\n",
    "total_users = len(crosstab_yes)\n",
    "\n",
    "# Define the process steps\n",
    "process_steps = ['start', 'step_1', 'step_2', 'step_3', 'confirm']\n",
    "\n",
    "# Initialize a dictionary to store the completion rates\n",
    "completion_rates = {}\n",
    "\n",
    "# Iterate through each process step to calculate the completion rate\n",
    "for step in process_steps:\n",
    "    # Calculate the number of unique users who reached each step\n",
    "    completed_users = (crosstab_yes[step] > 0).sum()  # Count unique users who reached the step\n",
    "    completion_rate = completed_users / total_users if total_users > 0 else 0  # Prevent division by zero\n",
    "    completion_rates[step] = completion_rate * 100  # Store the completion rate as a percentage\n",
    "\n",
    "# Print the completion rates for all steps\n",
    "for step, rate in completion_rates.items():\n",
    "    print(f\"Completion Rate for no '{step}': {rate:.2f}%\")\n"
   ]
  },
  {
   "cell_type": "markdown",
   "id": "369240cd-66cc-4e31-908e-b884f0b263fb",
   "metadata": {},
   "source": [
    "<h1>Error Rate All User</h1>"
   ]
  },
  {
   "cell_type": "markdown",
   "id": "b443b428-d676-473c-a884-a45d2df7807c",
   "metadata": {},
   "source": [
    "#Error Rates: If there’s a step where users go back to a previous step, it may indicate confusion or an error. \n",
    "#Moving from a later step to an earlier one should be considered an error."
   ]
  },
  {
   "cell_type": "code",
   "execution_count": 597,
   "id": "b6141642-bd63-49b0-abf0-73f2b51a6f33",
   "metadata": {},
   "outputs": [
    {
     "name": "stdout",
     "output_type": "stream",
     "text": [
      "Total Errors: 45351\n",
      "Error Rate: 10.08%\n"
     ]
    }
   ],
   "source": [
    "# Convert date_time column to datetime format\n",
    "df['date_time'] = pd.to_datetime(df['date_time'])\n",
    "\n",
    "#df = df.dropna()\n",
    "# Manually define the mapping dictionary for 'process_step'\n",
    "# Assigning specific numeric values to each step\n",
    "mapping = {\n",
    "    'start': 0,  \n",
    "    'step_1': 1,  \n",
    "    'step_2': 2,\n",
    "    'step_3' : 3,\n",
    "    'confirm' : 4\n",
    "}\n",
    "\n",
    "# Map the 'process_step' column using the defined mapping\n",
    "df['process_step_numeric'] = df['process_step'].map(mapping)\n",
    "\n",
    "# Sort the dataframe by client_id and date_time\n",
    "df = df.sort_values(by=['client_id', 'date_time'])\n",
    "\n",
    "# Create a new column to track if the user moved to a previous step\n",
    "df['error'] = df.groupby('client_id')['process_step_numeric'].diff().apply(lambda x: x < 0)\n",
    "\n",
    "# Filter rows where an error occurred\n",
    "error_rows = df[df['error'] == True]\n",
    "\n",
    "# Calculate the total error rate (number of errors / total steps)\n",
    "total_errors = error_rows.shape[0]\n",
    "total_steps = df.shape[0]\n",
    "error_rate = total_errors / total_steps\n",
    "\n",
    "print(f\"Total Errors: {total_errors}\")\n",
    "print(f\"Error Rate: {error_rate:.2%}\")\n",
    "\n",
    "## Total Errors are more than test + control errors because of NaN values, when dropping NaN values they add up to the same"
   ]
  },
  {
   "cell_type": "code",
   "execution_count": 546,
   "id": "ef378c7d-4756-4b12-9fb2-2d1a6a922a30",
   "metadata": {},
   "outputs": [
    {
     "data": {
      "text/plain": [
       "70609"
      ]
     },
     "execution_count": 546,
     "metadata": {},
     "output_type": "execute_result"
    }
   ],
   "source": [
    "df['client_id'].nunique()"
   ]
  },
  {
   "cell_type": "markdown",
   "id": "feddd7b7-c0a0-4a10-a43b-d4bc094d14ec",
   "metadata": {},
   "source": [
    "<h1>Average Duration by User for Steps</h1>"
   ]
  },
  {
   "cell_type": "code",
   "execution_count": 612,
   "id": "3fd2ce06-e17c-4f3e-a277-3f5fa6e9ef4d",
   "metadata": {},
   "outputs": [
    {
     "data": {
      "text/html": [
       "<div>\n",
       "<style scoped>\n",
       "    .dataframe tbody tr th:only-of-type {\n",
       "        vertical-align: middle;\n",
       "    }\n",
       "\n",
       "    .dataframe tbody tr th {\n",
       "        vertical-align: top;\n",
       "    }\n",
       "\n",
       "    .dataframe thead th {\n",
       "        text-align: right;\n",
       "    }\n",
       "</style>\n",
       "<table border=\"1\" class=\"dataframe\">\n",
       "  <thead>\n",
       "    <tr style=\"text-align: right;\">\n",
       "      <th></th>\n",
       "      <th>client_id</th>\n",
       "      <th>duration</th>\n",
       "    </tr>\n",
       "  </thead>\n",
       "  <tbody>\n",
       "    <tr>\n",
       "      <th>0</th>\n",
       "      <td>169</td>\n",
       "      <td>53.250000</td>\n",
       "    </tr>\n",
       "    <tr>\n",
       "      <th>1</th>\n",
       "      <td>555</td>\n",
       "      <td>39.500000</td>\n",
       "    </tr>\n",
       "    <tr>\n",
       "      <th>2</th>\n",
       "      <td>647</td>\n",
       "      <td>94.250000</td>\n",
       "    </tr>\n",
       "    <tr>\n",
       "      <th>3</th>\n",
       "      <td>722</td>\n",
       "      <td>74.875000</td>\n",
       "    </tr>\n",
       "    <tr>\n",
       "      <th>4</th>\n",
       "      <td>934</td>\n",
       "      <td>47.333333</td>\n",
       "    </tr>\n",
       "    <tr>\n",
       "      <th>...</th>\n",
       "      <td>...</td>\n",
       "      <td>...</td>\n",
       "    </tr>\n",
       "    <tr>\n",
       "      <th>70604</th>\n",
       "      <td>9999400</td>\n",
       "      <td>29.750000</td>\n",
       "    </tr>\n",
       "    <tr>\n",
       "      <th>70605</th>\n",
       "      <td>9999626</td>\n",
       "      <td>8.000000</td>\n",
       "    </tr>\n",
       "    <tr>\n",
       "      <th>70606</th>\n",
       "      <td>9999729</td>\n",
       "      <td>67.500000</td>\n",
       "    </tr>\n",
       "    <tr>\n",
       "      <th>70607</th>\n",
       "      <td>9999832</td>\n",
       "      <td>8.000000</td>\n",
       "    </tr>\n",
       "    <tr>\n",
       "      <th>70608</th>\n",
       "      <td>9999839</td>\n",
       "      <td>49.600000</td>\n",
       "    </tr>\n",
       "  </tbody>\n",
       "</table>\n",
       "<p>70609 rows × 2 columns</p>\n",
       "</div>"
      ],
      "text/plain": [
       "       client_id   duration\n",
       "0            169  53.250000\n",
       "1            555  39.500000\n",
       "2            647  94.250000\n",
       "3            722  74.875000\n",
       "4            934  47.333333\n",
       "...          ...        ...\n",
       "70604    9999400  29.750000\n",
       "70605    9999626   8.000000\n",
       "70606    9999729  67.500000\n",
       "70607    9999832   8.000000\n",
       "70608    9999839  49.600000\n",
       "\n",
       "[70609 rows x 2 columns]"
      ]
     },
     "execution_count": 612,
     "metadata": {},
     "output_type": "execute_result"
    }
   ],
   "source": [
    "# Time Spent on Each Step: The average duration users spend on each step.\n",
    "\n",
    "df['date_time'] = pd.to_datetime(df['date_time'])\n",
    "\n",
    "# Create separate columns for date and time\n",
    "#df['date'] = df['date_time'].dt.date\n",
    "#df['time'] = df['date_time'].dt.time\n",
    "#df = df.drop('date_time', axis=1)\n",
    "#df = df[[\"client_id\",\"visitor_id\",\"visit_id\",\"Variation\",\"test\",\"date\",\"time\"]]\n",
    "\n",
    "df = df.sort_values(by=['client_id', 'date_time'])\n",
    "\n",
    "df = df.sort_values(by=['client_id', 'visitor_id', 'visit_id', 'date_time'])\n",
    "\n",
    "# Calculate the time difference between each step within each visit\n",
    "df['duration'] = df.groupby(['client_id', 'visitor_id', 'visit_id'])['date_time'].diff().dt.total_seconds().abs()\n",
    "\n",
    "avg_step_duration_clients = df.groupby('client_id')['duration'].mean().reset_index()\n",
    "avg_step_duration_clients\n"
   ]
  },
  {
   "cell_type": "code",
   "execution_count": 614,
   "id": "91f011c5-0b9d-4d56-81e6-5a6252967af2",
   "metadata": {},
   "outputs": [
    {
     "data": {
      "text/html": [
       "<div>\n",
       "<style scoped>\n",
       "    .dataframe tbody tr th:only-of-type {\n",
       "        vertical-align: middle;\n",
       "    }\n",
       "\n",
       "    .dataframe tbody tr th {\n",
       "        vertical-align: top;\n",
       "    }\n",
       "\n",
       "    .dataframe thead th {\n",
       "        text-align: right;\n",
       "    }\n",
       "</style>\n",
       "<table border=\"1\" class=\"dataframe\">\n",
       "  <thead>\n",
       "    <tr style=\"text-align: right;\">\n",
       "      <th></th>\n",
       "      <th>process_step</th>\n",
       "      <th>duration</th>\n",
       "    </tr>\n",
       "  </thead>\n",
       "  <tbody>\n",
       "    <tr>\n",
       "      <th>0</th>\n",
       "      <td>confirm</td>\n",
       "      <td>128.396520</td>\n",
       "    </tr>\n",
       "    <tr>\n",
       "      <th>1</th>\n",
       "      <td>start</td>\n",
       "      <td>149.762496</td>\n",
       "    </tr>\n",
       "    <tr>\n",
       "      <th>2</th>\n",
       "      <td>step_1</td>\n",
       "      <td>40.272115</td>\n",
       "    </tr>\n",
       "    <tr>\n",
       "      <th>3</th>\n",
       "      <td>step_2</td>\n",
       "      <td>43.590126</td>\n",
       "    </tr>\n",
       "    <tr>\n",
       "      <th>4</th>\n",
       "      <td>step_3</td>\n",
       "      <td>95.397470</td>\n",
       "    </tr>\n",
       "  </tbody>\n",
       "</table>\n",
       "</div>"
      ],
      "text/plain": [
       "  process_step    duration\n",
       "0      confirm  128.396520\n",
       "1        start  149.762496\n",
       "2       step_1   40.272115\n",
       "3       step_2   43.590126\n",
       "4       step_3   95.397470"
      ]
     },
     "execution_count": 614,
     "metadata": {},
     "output_type": "execute_result"
    }
   ],
   "source": [
    "avg_step_duration_total = df.groupby('process_step')['duration'].mean().reset_index()\n",
    "avg_step_duration_total"
   ]
  },
  {
   "cell_type": "markdown",
   "id": "b2589776-75b9-4bbf-9da9-c66980bfec63",
   "metadata": {},
   "source": [
    "<h1>Average Duration by Control user for Steps</h1>"
   ]
  },
  {
   "cell_type": "code",
   "execution_count": 618,
   "id": "842e7d3d-517b-4abd-988e-8900511760fe",
   "metadata": {},
   "outputs": [
    {
     "name": "stdout",
     "output_type": "stream",
     "text": [
      "  process_step    duration\n",
      "0      confirm  128.278288\n",
      "1        start  149.082406\n",
      "2       step_1   39.051832\n",
      "3       step_2   45.965453\n",
      "4       step_3   96.631742\n",
      "  process_step  duration\n",
      "0      confirm      59.0\n",
      "1        start      52.0\n",
      "2       step_1      12.0\n",
      "3       step_2      24.0\n",
      "4       step_3      66.0\n",
      "  process_step  duration\n",
      "0      confirm   14581.0\n",
      "1        start   24819.0\n",
      "2       step_1    3636.0\n",
      "3       step_2    1858.0\n",
      "4       step_3    2668.0\n",
      "  process_step  duration\n",
      "0      confirm       0.0\n",
      "1        start       0.0\n",
      "2       step_1       0.0\n",
      "3       step_2       0.0\n",
      "4       step_3       0.0\n"
     ]
    },
    {
     "data": {
      "text/html": [
       "<div>\n",
       "<style scoped>\n",
       "    .dataframe tbody tr th:only-of-type {\n",
       "        vertical-align: middle;\n",
       "    }\n",
       "\n",
       "    .dataframe tbody tr th {\n",
       "        vertical-align: top;\n",
       "    }\n",
       "\n",
       "    .dataframe thead th {\n",
       "        text-align: right;\n",
       "    }\n",
       "</style>\n",
       "<table border=\"1\" class=\"dataframe\">\n",
       "  <thead>\n",
       "    <tr style=\"text-align: right;\">\n",
       "      <th></th>\n",
       "      <th>client_id</th>\n",
       "      <th>visitor_id</th>\n",
       "      <th>visit_id</th>\n",
       "      <th>process_step</th>\n",
       "      <th>date_time</th>\n",
       "      <th>Variation</th>\n",
       "      <th>process_step_numeric</th>\n",
       "      <th>error</th>\n",
       "      <th>duration</th>\n",
       "    </tr>\n",
       "  </thead>\n",
       "  <tbody>\n",
       "    <tr>\n",
       "      <th>280826</th>\n",
       "      <td>169</td>\n",
       "      <td>201385055_71273495308</td>\n",
       "      <td>749567106_99161211863_557568</td>\n",
       "      <td>start</td>\n",
       "      <td>2017-04-12 20:19:36</td>\n",
       "      <td>NaN</td>\n",
       "      <td>0</td>\n",
       "      <td>False</td>\n",
       "      <td>NaN</td>\n",
       "    </tr>\n",
       "    <tr>\n",
       "      <th>280825</th>\n",
       "      <td>169</td>\n",
       "      <td>201385055_71273495308</td>\n",
       "      <td>749567106_99161211863_557568</td>\n",
       "      <td>step_1</td>\n",
       "      <td>2017-04-12 20:19:45</td>\n",
       "      <td>NaN</td>\n",
       "      <td>1</td>\n",
       "      <td>False</td>\n",
       "      <td>9.0</td>\n",
       "    </tr>\n",
       "    <tr>\n",
       "      <th>280824</th>\n",
       "      <td>169</td>\n",
       "      <td>201385055_71273495308</td>\n",
       "      <td>749567106_99161211863_557568</td>\n",
       "      <td>step_2</td>\n",
       "      <td>2017-04-12 20:20:31</td>\n",
       "      <td>NaN</td>\n",
       "      <td>2</td>\n",
       "      <td>False</td>\n",
       "      <td>46.0</td>\n",
       "    </tr>\n",
       "    <tr>\n",
       "      <th>280823</th>\n",
       "      <td>169</td>\n",
       "      <td>201385055_71273495308</td>\n",
       "      <td>749567106_99161211863_557568</td>\n",
       "      <td>step_3</td>\n",
       "      <td>2017-04-12 20:22:05</td>\n",
       "      <td>NaN</td>\n",
       "      <td>3</td>\n",
       "      <td>False</td>\n",
       "      <td>94.0</td>\n",
       "    </tr>\n",
       "    <tr>\n",
       "      <th>280822</th>\n",
       "      <td>169</td>\n",
       "      <td>201385055_71273495308</td>\n",
       "      <td>749567106_99161211863_557568</td>\n",
       "      <td>confirm</td>\n",
       "      <td>2017-04-12 20:23:09</td>\n",
       "      <td>NaN</td>\n",
       "      <td>4</td>\n",
       "      <td>False</td>\n",
       "      <td>64.0</td>\n",
       "    </tr>\n",
       "    <tr>\n",
       "      <th>...</th>\n",
       "      <td>...</td>\n",
       "      <td>...</td>\n",
       "      <td>...</td>\n",
       "      <td>...</td>\n",
       "      <td>...</td>\n",
       "      <td>...</td>\n",
       "      <td>...</td>\n",
       "      <td>...</td>\n",
       "      <td>...</td>\n",
       "    </tr>\n",
       "    <tr>\n",
       "      <th>269918</th>\n",
       "      <td>9999839</td>\n",
       "      <td>948322592_28990736246</td>\n",
       "      <td>715530422_68620416793_515645</td>\n",
       "      <td>start</td>\n",
       "      <td>2017-03-29 12:11:32</td>\n",
       "      <td>NaN</td>\n",
       "      <td>0</td>\n",
       "      <td>False</td>\n",
       "      <td>157.0</td>\n",
       "    </tr>\n",
       "    <tr>\n",
       "      <th>269917</th>\n",
       "      <td>9999839</td>\n",
       "      <td>948322592_28990736246</td>\n",
       "      <td>715530422_68620416793_515645</td>\n",
       "      <td>step_1</td>\n",
       "      <td>2017-03-29 12:11:35</td>\n",
       "      <td>NaN</td>\n",
       "      <td>1</td>\n",
       "      <td>False</td>\n",
       "      <td>3.0</td>\n",
       "    </tr>\n",
       "    <tr>\n",
       "      <th>269916</th>\n",
       "      <td>9999839</td>\n",
       "      <td>948322592_28990736246</td>\n",
       "      <td>715530422_68620416793_515645</td>\n",
       "      <td>step_2</td>\n",
       "      <td>2017-03-29 12:11:50</td>\n",
       "      <td>NaN</td>\n",
       "      <td>2</td>\n",
       "      <td>False</td>\n",
       "      <td>15.0</td>\n",
       "    </tr>\n",
       "    <tr>\n",
       "      <th>269915</th>\n",
       "      <td>9999839</td>\n",
       "      <td>948322592_28990736246</td>\n",
       "      <td>715530422_68620416793_515645</td>\n",
       "      <td>step_3</td>\n",
       "      <td>2017-03-29 12:12:28</td>\n",
       "      <td>NaN</td>\n",
       "      <td>3</td>\n",
       "      <td>False</td>\n",
       "      <td>38.0</td>\n",
       "    </tr>\n",
       "    <tr>\n",
       "      <th>269914</th>\n",
       "      <td>9999839</td>\n",
       "      <td>948322592_28990736246</td>\n",
       "      <td>715530422_68620416793_515645</td>\n",
       "      <td>confirm</td>\n",
       "      <td>2017-03-29 12:13:03</td>\n",
       "      <td>NaN</td>\n",
       "      <td>4</td>\n",
       "      <td>False</td>\n",
       "      <td>35.0</td>\n",
       "    </tr>\n",
       "  </tbody>\n",
       "</table>\n",
       "<p>306369 rows × 9 columns</p>\n",
       "</div>"
      ],
      "text/plain": [
       "        client_id             visitor_id                      visit_id  \\\n",
       "280826        169  201385055_71273495308  749567106_99161211863_557568   \n",
       "280825        169  201385055_71273495308  749567106_99161211863_557568   \n",
       "280824        169  201385055_71273495308  749567106_99161211863_557568   \n",
       "280823        169  201385055_71273495308  749567106_99161211863_557568   \n",
       "280822        169  201385055_71273495308  749567106_99161211863_557568   \n",
       "...           ...                    ...                           ...   \n",
       "269918    9999839  948322592_28990736246  715530422_68620416793_515645   \n",
       "269917    9999839  948322592_28990736246  715530422_68620416793_515645   \n",
       "269916    9999839  948322592_28990736246  715530422_68620416793_515645   \n",
       "269915    9999839  948322592_28990736246  715530422_68620416793_515645   \n",
       "269914    9999839  948322592_28990736246  715530422_68620416793_515645   \n",
       "\n",
       "       process_step           date_time Variation  process_step_numeric  \\\n",
       "280826        start 2017-04-12 20:19:36       NaN                     0   \n",
       "280825       step_1 2017-04-12 20:19:45       NaN                     1   \n",
       "280824       step_2 2017-04-12 20:20:31       NaN                     2   \n",
       "280823       step_3 2017-04-12 20:22:05       NaN                     3   \n",
       "280822      confirm 2017-04-12 20:23:09       NaN                     4   \n",
       "...             ...                 ...       ...                   ...   \n",
       "269918        start 2017-03-29 12:11:32       NaN                     0   \n",
       "269917       step_1 2017-03-29 12:11:35       NaN                     1   \n",
       "269916       step_2 2017-03-29 12:11:50       NaN                     2   \n",
       "269915       step_3 2017-03-29 12:12:28       NaN                     3   \n",
       "269914      confirm 2017-03-29 12:13:03       NaN                     4   \n",
       "\n",
       "        error  duration  \n",
       "280826  False       NaN  \n",
       "280825  False       9.0  \n",
       "280824  False      46.0  \n",
       "280823  False      94.0  \n",
       "280822  False      64.0  \n",
       "...       ...       ...  \n",
       "269918  False     157.0  \n",
       "269917  False       3.0  \n",
       "269916  False      15.0  \n",
       "269915  False      38.0  \n",
       "269914  False      35.0  \n",
       "\n",
       "[306369 rows x 9 columns]"
      ]
     },
     "execution_count": 618,
     "metadata": {},
     "output_type": "execute_result"
    }
   ],
   "source": [
    "#df[\"test\"].unique()\n",
    "df_test = df[df['Variation'] != 'Control']\n",
    "avg_step_duration_mean_test = df_test.groupby('process_step')['duration'].mean().reset_index()\n",
    "print(avg_step_duration_mean_test)\n",
    "avg_step_duration_median_test = df_test.groupby('process_step')['duration'].median().reset_index()\n",
    "print(avg_step_duration_median_test)\n",
    "avg_step_duration_max_test = df_test.groupby('process_step')['duration'].max().reset_index()\n",
    "print(avg_step_duration_max_test)\n",
    "avg_step_duration_min_test = df_test.groupby('process_step')['duration'].min().reset_index()\n",
    "print(avg_step_duration_min_test)\n",
    "df_test.shape"
   ]
  },
  {
   "cell_type": "markdown",
   "id": "de2906b9-1645-4f45-a8fd-6ed459c10c41",
   "metadata": {},
   "source": [
    "<h1>Average Duration by Test user for Steps</h1>"
   ]
  },
  {
   "cell_type": "code",
   "execution_count": 620,
   "id": "fa94498f-6253-4244-b912-bfd106e121d7",
   "metadata": {},
   "outputs": [
    {
     "name": "stdout",
     "output_type": "stream",
     "text": [
      "  process_step    duration\n",
      "0      confirm  128.139205\n",
      "1        start  151.642459\n",
      "2       step_1   42.016859\n",
      "3       step_2   40.696009\n",
      "4       step_3   94.509760\n",
      "  process_step  duration\n",
      "0      confirm      68.0\n",
      "1        start      43.0\n",
      "2       step_1      15.0\n",
      "3       step_2      21.0\n",
      "4       step_3      66.0\n",
      "  process_step  duration\n",
      "0      confirm    9396.0\n",
      "1        start   40235.0\n",
      "2       step_1    4150.0\n",
      "3       step_2    1724.0\n",
      "4       step_3    3635.0\n",
      "  process_step  duration\n",
      "0      confirm       0.0\n",
      "1        start       0.0\n",
      "2       step_1       0.0\n",
      "3       step_2       0.0\n",
      "4       step_3       0.0\n"
     ]
    },
    {
     "data": {
      "text/plain": [
       "(271984, 9)"
      ]
     },
     "execution_count": 620,
     "metadata": {},
     "output_type": "execute_result"
    }
   ],
   "source": [
    "df_no_test = df[df['Variation'] != 'Test']\n",
    "avg_step_duration_mean_no_test = df_no_test.groupby('process_step')['duration'].mean().reset_index()\n",
    "print(avg_step_duration_mean_no_test)\n",
    "avg_step_duration_median_no_test = df_no_test.groupby('process_step')['duration'].median().reset_index()\n",
    "print(avg_step_duration_median_no_test)\n",
    "avg_step_duration_max_no_test = df_no_test.groupby('process_step')['duration'].max().reset_index()\n",
    "print(avg_step_duration_max_no_test)\n",
    "avg_step_duration_min_no_test = df_no_test.groupby('process_step')['duration'].min().reset_index()\n",
    "print(avg_step_duration_min_no_test)\n",
    "df_no_test.shape"
   ]
  },
  {
   "cell_type": "code",
   "execution_count": null,
   "id": "e588f206-efcd-4bd2-af4e-f38cd4fd2903",
   "metadata": {},
   "outputs": [],
   "source": []
  },
  {
   "cell_type": "code",
   "execution_count": null,
   "id": "b87227b7-8f4a-4a4f-b5a5-915e30e86b3f",
   "metadata": {},
   "outputs": [],
   "source": []
  },
  {
   "cell_type": "markdown",
   "id": "3f60baf0-8e93-4fa9-a711-30b284e0d4c0",
   "metadata": {},
   "source": [
    "<h1>Error Rate TEST User</h1>"
   ]
  },
  {
   "cell_type": "code",
   "execution_count": 573,
   "id": "e27ec26a-e68e-4afb-b0d9-44c67c99cf86",
   "metadata": {},
   "outputs": [
    {
     "name": "stdout",
     "output_type": "stream",
     "text": [
      "Total Test Errors: 19088\n",
      "Test Error Rate: 10.73%\n"
     ]
    }
   ],
   "source": [
    "# Convert date_time column to datetime format\n",
    "df['date_time'] = pd.to_datetime(df['date_time'])\n",
    "\n",
    "# Filter the dataframe for users with 'Test' in the 'Variation' column\n",
    "filtered_test = df[df['Variation'] == 'Test'].copy()\n",
    "\n",
    "# Manually define the mapping dictionary for 'process_step'\n",
    "mapping = {\n",
    "    'start': 0,  \n",
    "    'step_1': 1,  \n",
    "    'step_2': 2,\n",
    "    'step_3': 3,\n",
    "    'confirm': 4\n",
    "}\n",
    "\n",
    "# Map the 'process_step' column using the defined mapping\n",
    "filtered_test['process_step_numeric'] = filtered_test['process_step'].map(mapping)\n",
    "\n",
    "# Sort the filtered dataframe by client_id and date_time\n",
    "filtered_test = filtered_test.sort_values(by=['client_id', 'date_time'])\n",
    "\n",
    "# Create a new column to track if the user moved to a previous step\n",
    "filtered_test['error'] = filtered_test.groupby('client_id')['process_step_numeric'].diff().apply(lambda x: x < 0)\n",
    "\n",
    "# Filter rows where an error occurred\n",
    "error_rows = filtered_test[filtered_test['error'] == True]\n",
    "\n",
    "# Calculate the total error rate (number of errors / total steps)\n",
    "test_errors = error_rows.shape[0]\n",
    "test_steps = filtered_test.shape[0]  # Use filtered dataframe for total steps\n",
    "test_error_rate = test_errors / test_steps if test_steps > 0 else 0  # Avoid division by zero\n",
    "\n",
    "print(f\"Total Test Errors: {test_errors}\")\n",
    "print(f\"Test Error Rate: {test_error_rate:.2%}\")\n"
   ]
  },
  {
   "cell_type": "markdown",
   "id": "f0be866b-2d62-47df-8497-b86446c404b7",
   "metadata": {},
   "source": [
    "<h1>Error Rate CONTROL User</h1>"
   ]
  },
  {
   "cell_type": "code",
   "execution_count": 588,
   "id": "c493c6b4-f58c-422d-9546-a7420e9fd517",
   "metadata": {},
   "outputs": [
    {
     "name": "stdout",
     "output_type": "stream",
     "text": [
      "Total Control Errors: 13335\n",
      "Control Error Rate: 9.30%\n"
     ]
    }
   ],
   "source": [
    "# Convert date_time column to datetime format\n",
    "df['date_time'] = pd.to_datetime(df['date_time'])\n",
    "\n",
    "# Filter the dataframe for users with 'Test' in the 'Variation' column\n",
    "filtered_control = df[df['Variation'] == 'Control'].copy()\n",
    "\n",
    "# Manually define the mapping dictionary for 'process_step'\n",
    "mapping = {\n",
    "    'start': 0,  \n",
    "    'step_1': 1,  \n",
    "    'step_2': 2,\n",
    "    'step_3': 3,\n",
    "    'confirm': 4\n",
    "}\n",
    "\n",
    "# Map the 'process_step' column using the defined mapping\n",
    "filtered_control['process_step_numeric'] = filtered_control['process_step'].map(mapping)\n",
    "\n",
    "# Sort the filtered dataframe by client_id and date_time\n",
    "filtered_control = filtered_control.sort_values(by=['client_id', 'date_time'])\n",
    "\n",
    "# Create a new column to track if the user moved to a previous step\n",
    "filtered_control['error'] = filtered_control.groupby('client_id')['process_step_numeric'].diff().apply(lambda x: x < 0)\n",
    "\n",
    "# Filter rows where an error occurred\n",
    "error_rows = filtered_control[filtered_control['error'] == True]\n",
    "\n",
    "# Calculate the total error rate (number of errors / total steps)\n",
    "control_errors = error_rows.shape[0]\n",
    "control_steps = filtered_control.shape[0]  # Use filtered dataframe for total steps\n",
    "control_error_rate = control_errors / control_steps if test_steps > 0 else 0  # Avoid division by zero\n",
    "\n",
    "print(f\"Total Control Errors: {control_errors}\")\n",
    "print(f\"Control Error Rate: {control_error_rate:.2%}\")\n"
   ]
  },
  {
   "cell_type": "code",
   "execution_count": null,
   "id": "eb7355aa-da95-4d97-b9bc-cef74bae5f2b",
   "metadata": {},
   "outputs": [],
   "source": []
  }
 ],
 "metadata": {
  "kernelspec": {
   "display_name": "Python 3 (ipykernel)",
   "language": "python",
   "name": "python3"
  },
  "language_info": {
   "codemirror_mode": {
    "name": "ipython",
    "version": 3
   },
   "file_extension": ".py",
   "mimetype": "text/x-python",
   "name": "python",
   "nbconvert_exporter": "python",
   "pygments_lexer": "ipython3",
   "version": "3.12.4"
  }
 },
 "nbformat": 4,
 "nbformat_minor": 5
}
